{
    "metadata": {
        "kernelspec": {
            "name": "SQL",
            "display_name": "SQL",
            "language": "sql"
        },
        "language_info": {
            "name": "sql",
            "version": ""
        }
    },
    "nbformat_minor": 2,
    "nbformat": 4,
    "cells": [
        {
            "cell_type": "markdown",
            "source": [
                "**學習參考：**\n",
                "\n",
                "- Microsoft SQL 文件： [https://docs.microsoft.com/zh-tw/sql/?view=sql-server-ver15](https://docs.microsoft.com/zh-tw/sql/?view=sql-server-ver15)\n",
                "- W3School： [https://www.w3schools.com/sql/sql\\_select.asp](https://www.w3schools.com/sql/sql_select.asp)\n",
                "- SQL Tutorial： [https://sqltutorial.org/](https://sqltutorial.org/)"
            ],
            "metadata": {
                "azdata_cell_guid": "8b5a1d3b-5c72-4d6a-ae93-8b548253ba87"
            },
            "attachments": {}
        },
        {
            "cell_type": "code",
            "source": [
                "-- 切換使用 [shop] 資料庫 --\n",
                "USE [shop];"
            ],
            "metadata": {
                "azdata_cell_guid": "5d375c3c-f70b-4f1d-a102-eeb3983a591d",
                "language": "sql"
            },
            "outputs": [],
            "execution_count": null
        },
        {
            "cell_type": "markdown",
            "source": [
                "## ALTER TABLE ... ADD COLUMN 語法  \n",
                "ALTER <span class=\"sqlkeywordcolor\" style=\"box-sizing: inherit; color: mediumblue; font-family: Consolas, Menlo, &quot;courier new&quot;, monospace; font-size: 15px; background-color: rgb(255, 255, 255);\">TABLE</span> _table\\_name_  \n",
                "<span class=\"sqlkeywordcolor\" style=\"box-sizing: inherit; color: mediumblue; font-family: Consolas, Menlo, &quot;courier new&quot;, monospace; font-size: 15px; background-color: rgb(255, 255, 255);\">ADD</span> _column\\_name datatype_<span style=\"color: rgb(0, 0, 0); font-family: Consolas, Menlo, &quot;courier new&quot;, monospace; font-size: 15px; background-color: rgb(255, 255, 255);\">;</span>"
            ],
            "metadata": {
                "language": "sql",
                "azdata_cell_guid": "c8a667c9-1316-47fd-8e1d-e87902b4f969"
            },
            "attachments": {}
        }
    ]
}