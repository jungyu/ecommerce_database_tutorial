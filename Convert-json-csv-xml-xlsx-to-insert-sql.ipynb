{
  "nbformat": 4,
  "nbformat_minor": 0,
  "metadata": {
    "colab": {
      "name": "讀入csv或json轉換成insert_into之SQL指令.ipynb",
      "provenance": [],
      "collapsed_sections": []
    },
    "kernelspec": {
      "name": "python3",
      "display_name": "Python 3"
    },
    "language_info": {
      "name": "python"
    }
  },
  "cells": [
    {
      "cell_type": "markdown",
      "source": [
        "Google 雲端主機相關 IP 位址\n",
        "https://www.gstatic.com/ipranges/cloud.json\n",
        "\n",
        "IPv4 Subnet Calculator\n",
        "https://www.adminsub.net/ipv4-subnet-calculator/34.0.0.0/25\n"
      ],
      "metadata": {
        "id": "4q0vBrUKS7FZ"
      }
    },
    {
      "cell_type": "code",
      "execution_count": null,
      "metadata": {
        "id": "73CXh7QTSr7Z"
      },
      "outputs": [],
      "source": [
        "#如果使用的是 Google Colab ，執行下列獲取其 IP Address\n",
        "!curl ipecho.net/plain"
      ]
    },
    {
      "cell_type": "code",
      "source": [
        "# 匯入 pandas 模組\n",
        "import pandas as pd\n",
        "\n",
        "# 讀取 CSV 格式資料\n",
        "csvData = pd.read_csv (r'companies.csv')   \n",
        "df = pd.DataFrame(csvData)"
      ],
      "metadata": {
        "id": "S3YgZD-53kme"
      },
      "execution_count": 9,
      "outputs": []
    },
    {
      "cell_type": "code",
      "source": [
        "for row in df.itertuples():\n",
        "  print(\"INSERT INTO [shop].[dbo].[companies] ([CompanyName], [CompanySupervisor], [CompanyDesc], [CountryCode], [TaxID], [Url], [Email], [Phone], [Created], [Modified], [Status]) VALUES ('{CompanyName}', '{CompanySupervisor}', '{CompanyDesc}', '{CountryCode}', '{TaxID}', '{Url}', '{Email}', '{Phone}', '{Created}', '{Modified}', '{Status}');\"\n",
        "  .format(CompanyName=row.CompanyName,CompanySupervisor=row.CompanySupervisor,CompanyDesc=row.CompanyDesc,CountryCode=row.CountryCode,TaxID=row.TaxID,Url=row.Url,Email=row.Email,Phone=row.Phone,Created=row.Created,Modified=row.Modified,Status=row.Status))"
      ],
      "metadata": {
        "id": "GYi8gJFe3zno"
      },
      "execution_count": null,
      "outputs": []
    },
    {
      "cell_type": "code",
      "source": [
        "# 匯入 json 模組\n",
        "import json\n",
        "\n",
        "# 讀取 JSON 格式資料\n",
        "with open(r'companies.json') as json_file:\n",
        "    data = json.load(json_file)\n",
        "\n",
        "    for row in data:\n",
        "        print(\"INSERT INTO [shop].[dbo].[companies] ([CompanyName], [CompanySupervisor], [CompanyDesc], [CountryCode], [TaxID], [Url], [Email], [Phone], [Created], [Modified], [Status]) VALUES ('{CompanyName}', '{CompanySupervisor}', '{CompanyDesc}', '{CountryCode}', '{TaxID}', '{Url}', '{Email}', '{Phone}', '{Created}', '{Modified}', '{Status}');\"\n",
        "        .format(CompanyName=row['CompanyName'], CompanySupervisor=row['CompanySupervisor'], CompanyDesc=row['CompanyDesc'],CountryCode=row['CountryCode'], TaxID=row['TaxID'], Url=row['Url'], Email=row['Email'], Phone=row['Phone'], Created=row['Created'],  Modified=row['Modified'], Status=row['Status']))"
      ],
      "metadata": {
        "id": "734dMmipIiBu"
      },
      "execution_count": null,
      "outputs": []
    },
    {
      "cell_type": "code",
      "source": [
        "# 匯入 pandas 模組\n",
        "import pandas as pd\n",
        "\n",
        "# 讀取 Excel xlsx 格式資料\n",
        "df = pd.read_excel (r'companies.xlsx', sheet_name='sheet1')\n",
        "print (df)"
      ],
      "metadata": {
        "id": "2T6Yk-bCb_9W"
      },
      "execution_count": null,
      "outputs": []
    },
    {
      "cell_type": "code",
      "source": [
        "# 匯入 xml etree 模組\n",
        "import xml.etree.ElementTree as ET\n",
        "\n",
        "# 從檔案載入並解析 XML 資料\n",
        "tree = ET.parse('companies.xml')\n",
        "root = tree.getroot()\n",
        "\n",
        "# 從字串中取得並解析 XML 資料\n",
        "root = ET.fromstring(country_data_as_string)"
      ],
      "metadata": {
        "id": "IoaF0FNcbfMN"
      },
      "execution_count": 17,
      "outputs": []
    }
  ]
}