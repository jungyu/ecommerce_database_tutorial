{
    "metadata": {
        "kernelspec": {
            "name": "SQL",
            "display_name": "SQL",
            "language": "sql"
        },
        "language_info": {
            "name": "sql",
            "version": ""
        }
    },
    "nbformat_minor": 2,
    "nbformat": 4,
    "cells": [
        {
            "cell_type": "code",
            "source": [
                "-- Warnng:建立資料庫 -- \n",
                "CREATE DATABASE [woo_1]\n",
                "    COLLATE Chinese_Taiwan_Stroke_CI_AS;  \n",
                "GO\n",
                ""
            ],
            "metadata": {
                "language": "sql",
                "azdata_cell_guid": "050359aa-32d6-470d-84d5-c9e7f4f0395e"
            },
            "outputs": [
                {
                    "output_type": "error",
                    "ename": "",
                    "evalue": "Msg 1801, Level 16, State 3, Line 2\nDatabase 'woo_1' already exists. Choose a different database name.",
                    "traceback": []
                },
                {
                    "output_type": "display_data",
                    "data": {
                        "text/html": "總執行時間: 00:00:00.067"
                    },
                    "metadata": {}
                }
            ],
            "execution_count": 21
        },
        {
            "cell_type": "code",
            "source": [
                "-- 切換使用資料庫 --\n",
                "USE [woo_1];\n",
                "GO"
            ],
            "metadata": {
                "language": "sql",
                "azdata_cell_guid": "4784bbdc-2ec5-4e53-9845-11a023caeda6"
            },
            "outputs": [
                {
                    "output_type": "display_data",
                    "data": {
                        "text/html": "命令已順利完成。"
                    },
                    "metadata": {}
                },
                {
                    "output_type": "display_data",
                    "data": {
                        "text/html": "總執行時間: 00:00:00.046"
                    },
                    "metadata": {}
                }
            ],
            "execution_count": 27
        },
        {
            "cell_type": "code",
            "source": [
                "-- Warning：刪除[會員]資料表 --\n",
                "DROP TABLE IF EXISTS [dbo].[Members]\n",
                "GO\n",
                "\n",
                "-- 建立[會員]資料表 --\n",
                "CREATE TABLE [dbo].[Members] (\n",
                "    [ID]            BIGINT         IDENTITY (1, 1) NOT NULL,\n",
                "    [Login]         VARCHAR (60)   NOT NULL,\n",
                "    [Pass]          VARCHAR (255)  DEFAULT ('') NOT NULL,\n",
                "    [Nicename]      VARCHAR (50)   DEFAULT ('') NOT NULL,\n",
                "    [Email]         VARCHAR (100)  DEFAULT ('') NOT NULL,\n",
                "    [Url]           VARCHAR (100)  DEFAULT ('') NOT NULL,\n",
                "    [Registered]    DATETIME       DEFAULT (getdate()) NOT NULL,\n",
                "    [ActivationKey] VARCHAR (255)  DEFAULT ('') NOT NULL,\n",
                "    [Status]        INT            DEFAULT ((0)) NOT NULL,\n",
                "    [DisplayName]   NVARCHAR (250) DEFAULT (('') collate Chinese_Taiwan_Stroke_CI_AS) NOT NULL,\n",
                "    PRIMARY KEY CLUSTERED ([ID] ASC)\n",
                ");\n",
                "GO"
            ],
            "metadata": {
                "azdata_cell_guid": "5d70363e-93aa-419b-9bac-0e0f43e27ff2",
                "language": "sql"
            },
            "outputs": [
                {
                    "output_type": "display_data",
                    "data": {
                        "text/html": "命令已順利完成。"
                    },
                    "metadata": {}
                },
                {
                    "output_type": "display_data",
                    "data": {
                        "text/html": "命令已順利完成。"
                    },
                    "metadata": {}
                },
                {
                    "output_type": "display_data",
                    "data": {
                        "text/html": "總執行時間: 00:00:00.100"
                    },
                    "metadata": {}
                }
            ],
            "execution_count": 40
        },
        {
            "cell_type": "code",
            "source": [
                "-- Warning：刪除[會員詮釋資料]資料表 --\n",
                "DROP TABLE IF EXISTS [dbo].[MemberMeta]\n",
                "GO\n",
                "\n",
                "-- 建立[會員詮釋資料]資料表 --\n",
                "CREATE TABLE [dbo].[MemberMeta] (\n",
                "    [MMetaID]   BIGINT        IDENTITY (1, 1) NOT NULL,\n",
                "    [MemberID]  BIGINT        NOT NULL,\n",
                "    [MetaKey]   VARCHAR (255) DEFAULT ('') NULL,\n",
                "    [MetaValue] NTEXT         DEFAULT (('') collate Chinese_Taiwan_Stroke_CI_AS) NULL,\n",
                "    PRIMARY KEY CLUSTERED ([MMetaID] ASC)\n",
                ");\n",
                "GO\n",
                "\n",
                "-- 建立索引 --\n",
                "CREATE NONCLUSTERED INDEX [ix_MemberID]\n",
                "    ON [dbo].[MemberMeta]([MemberID] ASC);\n",
                "GO\n",
                "\n",
                "CREATE NONCLUSTERED INDEX [ix_MemberMetaKey]\n",
                "    ON [dbo].[MemberMeta]([MetaKey] ASC);\n",
                "GO"
            ],
            "metadata": {
                "language": "sql",
                "azdata_cell_guid": "f890f2f9-c1d5-4905-a8d9-7ead47c735b4"
            },
            "outputs": [
                {
                    "output_type": "display_data",
                    "data": {
                        "text/html": "命令已順利完成。"
                    },
                    "metadata": {}
                },
                {
                    "output_type": "display_data",
                    "data": {
                        "text/html": "命令已順利完成。"
                    },
                    "metadata": {}
                },
                {
                    "output_type": "display_data",
                    "data": {
                        "text/html": "命令已順利完成。"
                    },
                    "metadata": {}
                },
                {
                    "output_type": "display_data",
                    "data": {
                        "text/html": "命令已順利完成。"
                    },
                    "metadata": {}
                },
                {
                    "output_type": "display_data",
                    "data": {
                        "text/html": "總執行時間: 00:00:00.208"
                    },
                    "metadata": {}
                }
            ],
            "execution_count": 39
        },
        {
            "cell_type": "code",
            "source": [
                "-- 新增資料 --"
            ],
            "metadata": {
                "language": "sql",
                "azdata_cell_guid": "76e95919-fea7-47de-9ec8-0ab5add9dbae"
            },
            "outputs": [],
            "execution_count": null
        },
        {
            "cell_type": "code",
            "source": [
                "-- 查詢資料 --"
            ],
            "metadata": {
                "language": "sql",
                "azdata_cell_guid": "599d67ba-c518-4aec-9409-bfc5d1e895a0"
            },
            "outputs": [],
            "execution_count": null
        },
        {
            "cell_type": "code",
            "source": [
                "-- 清空資料表 --"
            ],
            "metadata": {
                "language": "sql",
                "azdata_cell_guid": "b351b803-2a5d-4df0-92dd-55cad8a16023"
            },
            "outputs": [],
            "execution_count": null
        }
    ]
}