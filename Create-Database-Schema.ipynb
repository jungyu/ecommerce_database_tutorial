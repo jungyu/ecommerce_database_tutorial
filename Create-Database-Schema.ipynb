{
    "metadata": {
        "kernelspec": {
            "name": "SQL",
            "display_name": "SQL",
            "language": "sql"
        },
        "language_info": {
            "name": "sql",
            "version": ""
        }
    },
    "nbformat_minor": 2,
    "nbformat": 4,
    "cells": [
        {
            "cell_type": "markdown",
            "source": [
                "問題1：為什麼要使用 Chinese\\_Taiwan\\_Stroke\\_CI\\_AS 定序與 Unicode 支援\n",
                "\n",
                "<span class=\"s1\" style=\"color: rgb(0, 0, 0);\">參考：</span>[https://docs.microsoft.com/zh-tw/sql/relational-databases/collations/collation-and-unicode-support?view=sql-server-ver15](https://docs.microsoft.com/zh-tw/sql/relational-databases/collations/collation-and-unicode-support?view=sql-server-ver15)\n",
                "\n",
                "**Chinese-Taiwan-Stroke、排序不區分大小寫、區分腔調**\n",
                "\n",
                "<span class=\"s2\" style=\"font-variant-numeric: normal; font-variant-east-asian: normal; font-stretch: normal; line-height: normal; font-family: &quot;PingFang TC&quot;;\">同時在使用</span>  NCHAR<span class=\"s2\" style=\"font-variant-numeric: normal; font-variant-east-asian: normal; font-stretch: normal; line-height: normal; font-family: &quot;PingFang TC&quot;;\">、</span>NVARCHAR <span class=\"s2\" style=\"font-variant-numeric: normal; font-variant-east-asian: normal; font-stretch: normal; line-height: normal; font-family: &quot;PingFang TC&quot;;\">和</span> NTEXT <span class=\"s2\" style=\"font-variant-numeric: normal; font-variant-east-asian: normal; font-stretch: normal; line-height: normal; font-family: &quot;PingFang TC&quot;;\">資料類型時能支援</span>  unicode <span class=\"s2\" style=\"font-variant-numeric: normal; font-variant-east-asian: normal; font-stretch: normal; line-height: normal; font-family: &quot;PingFang TC&quot;;\">及</span> emoji"
            ],
            "metadata": {
                "azdata_cell_guid": "e773bff0-308f-44d4-af26-37b59b68c571"
            },
            "attachments": {}
        },
        {
            "cell_type": "code",
            "source": [
                "-- Warnng:建立資料庫 -- \n",
                "CREATE DATABASE [shop]\n",
                "    COLLATE Chinese_Taiwan_Stroke_CI_AS;  \n",
                "GO"
            ],
            "metadata": {
                "language": "sql",
                "azdata_cell_guid": "050359aa-32d6-470d-84d5-c9e7f4f0395e"
            },
            "outputs": [
                {
                    "output_type": "error",
                    "evalue": "Msg 1801, Level 16, State 3, Line 2\nDatabase 'shop' already exists. Choose a different database name.",
                    "ename": "",
                    "traceback": []
                },
                {
                    "output_type": "display_data",
                    "data": {
                        "text/html": "總執行時間: 00:00:00.055"
                    },
                    "metadata": {}
                }
            ],
            "execution_count": 12
        },
        {
            "cell_type": "code",
            "source": [
                "-- 切換使用資料庫 --\n",
                "USE [shop];\n",
                "GO"
            ],
            "metadata": {
                "language": "sql",
                "azdata_cell_guid": "4784bbdc-2ec5-4e53-9845-11a023caeda6"
            },
            "outputs": [
                {
                    "output_type": "display_data",
                    "data": {
                        "text/html": "命令已順利完成。"
                    },
                    "metadata": {}
                },
                {
                    "output_type": "display_data",
                    "data": {
                        "text/html": "總執行時間: 00:00:00.043"
                    },
                    "metadata": {}
                }
            ],
            "execution_count": 13
        },
        {
            "cell_type": "code",
            "source": [
                "-- Warning：刪除[會員]資料表 --\n",
                "DROP TABLE IF EXISTS [dbo].[Members]\n",
                "GO\n",
                "\n",
                "-- 建立[會員]資料表 --\n",
                "CREATE TABLE [dbo].[Members] (\n",
                "    [ID]            INT            IDENTITY (1, 1) NOT NULL,\n",
                "    [Login]         VARCHAR (60)   NOT NULL,\n",
                "    [Pass]          VARCHAR (255)  DEFAULT ('') NOT NULL,\n",
                "    [Nicename]      NVARCHAR (50)  DEFAULT ('') NOT NULL,\n",
                "    [Email]         VARCHAR (100)  DEFAULT ('') NOT NULL,\n",
                "    [Url]           VARCHAR (100)  DEFAULT ('') NOT NULL,\n",
                "    [Registered]    DATETIME       DEFAULT (getdate()) NOT NULL,\n",
                "    [ActivationKey] VARCHAR (255)  DEFAULT ('') NOT NULL,\n",
                "    [Status]        TINYINT        DEFAULT ((0)) NOT NULL,\n",
                "    [DisplayName]   NVARCHAR (250) DEFAULT (('') collate Chinese_Taiwan_Stroke_CI_AS) NOT NULL,\n",
                "    PRIMARY KEY CLUSTERED ([ID] ASC)\n",
                ");\n",
                "GO\n",
                "\n",
                "-- 建立索引 --\n",
                "CREATE NONCLUSTERED INDEX [ix_Login]\n",
                "    ON [dbo].[Members]([Login] ASC);\n",
                "GO\n",
                "\n",
                "CREATE NONCLUSTERED INDEX [ix_Nicename]\n",
                "    ON [dbo].[Members]([Nicename] ASC);\n",
                "GO\n",
                "\n",
                "CREATE NONCLUSTERED INDEX [ix_Email]\n",
                "    ON [dbo].[Members]([Email] ASC);\n",
                "GO"
            ],
            "metadata": {
                "azdata_cell_guid": "5d70363e-93aa-419b-9bac-0e0f43e27ff2",
                "language": "sql"
            },
            "outputs": [
                {
                    "output_type": "display_data",
                    "data": {
                        "text/html": "命令已順利完成。"
                    },
                    "metadata": {}
                },
                {
                    "output_type": "display_data",
                    "data": {
                        "text/html": "命令已順利完成。"
                    },
                    "metadata": {}
                },
                {
                    "output_type": "display_data",
                    "data": {
                        "text/html": "命令已順利完成。"
                    },
                    "metadata": {}
                },
                {
                    "output_type": "display_data",
                    "data": {
                        "text/html": "命令已順利完成。"
                    },
                    "metadata": {}
                },
                {
                    "output_type": "display_data",
                    "data": {
                        "text/html": "命令已順利完成。"
                    },
                    "metadata": {}
                },
                {
                    "output_type": "display_data",
                    "data": {
                        "text/html": "總執行時間: 00:00:00.239"
                    },
                    "metadata": {}
                }
            ],
            "execution_count": 14
        },
        {
            "cell_type": "markdown",
            "source": [
                "問題2：為什麼不該使用 NTEXT？\n",
                "\n",
                "因為 NTEXT 是大型物件(LOB)結構，這類的資料類型可以存放到 2GB 的資料量，\n",
                "\n",
                "而 NVARCHAR(MAX) 預設在不超過 8,000 Bytes 的情況下，資料是儲存在資料表裡的，只有超過時才改存到 LOB 裡。  \n",
                "改用 NVARCHAR(MAX) 在儲存空間、查詢、交易複寫等，相對會比較有優勢。\n",
                "\n",
                "另外撰寫 .NET 程式時也相較容易。"
            ],
            "metadata": {
                "azdata_cell_guid": "0ae89c0a-2402-49c3-9f06-159dab10211a"
            },
            "attachments": {}
        },
        {
            "cell_type": "code",
            "source": [
                "-- Warning：刪除[會員詮釋資料]資料表 --\n",
                "DROP TABLE IF EXISTS [dbo].[MemberMeta]\n",
                "GO\n",
                "\n",
                "-- 建立[會員詮釋資料]資料表 --\n",
                "CREATE TABLE [dbo].[MemberMeta] (\n",
                "    [MMetaID]   BIGINT          IDENTITY (1, 1) NOT NULL,\n",
                "    [MemberID]  INT             NOT NULL,\n",
                "    [MetaKey]   VARCHAR (255)   DEFAULT ('') NULL,\n",
                "    [MetaValue] NVARCHAR (MAX)  DEFAULT (('') collate Chinese_Taiwan_Stroke_CI_AS) NULL,\n",
                "    PRIMARY KEY CLUSTERED ([MMetaID] ASC)\n",
                ");\n",
                "GO\n",
                "\n",
                "-- 建立索引 --\n",
                "CREATE NONCLUSTERED INDEX [ix_MemberID]\n",
                "    ON [dbo].[MemberMeta]([MemberID] ASC);\n",
                "GO\n",
                "\n",
                "CREATE NONCLUSTERED INDEX [ix_MemberMetaKey]\n",
                "    ON [dbo].[MemberMeta]([MetaKey] ASC);\n",
                "GO"
            ],
            "metadata": {
                "language": "sql",
                "azdata_cell_guid": "f890f2f9-c1d5-4905-a8d9-7ead47c735b4"
            },
            "outputs": [
                {
                    "output_type": "display_data",
                    "data": {
                        "text/html": "命令已順利完成。"
                    },
                    "metadata": {}
                },
                {
                    "output_type": "display_data",
                    "data": {
                        "text/html": "命令已順利完成。"
                    },
                    "metadata": {}
                },
                {
                    "output_type": "display_data",
                    "data": {
                        "text/html": "命令已順利完成。"
                    },
                    "metadata": {}
                },
                {
                    "output_type": "display_data",
                    "data": {
                        "text/html": "命令已順利完成。"
                    },
                    "metadata": {}
                },
                {
                    "output_type": "display_data",
                    "data": {
                        "text/html": "總執行時間: 00:00:00.192"
                    },
                    "metadata": {}
                }
            ],
            "execution_count": 15
        },
        {
            "cell_type": "code",
            "source": [
                "-- 新增資料 --"
            ],
            "metadata": {
                "language": "sql",
                "azdata_cell_guid": "76e95919-fea7-47de-9ec8-0ab5add9dbae"
            },
            "outputs": [],
            "execution_count": null
        },
        {
            "cell_type": "code",
            "source": [
                "-- 查詢資料 --"
            ],
            "metadata": {
                "language": "sql",
                "azdata_cell_guid": "599d67ba-c518-4aec-9409-bfc5d1e895a0"
            },
            "outputs": [],
            "execution_count": null
        },
        {
            "cell_type": "code",
            "source": [
                "-- 清空資料表 --"
            ],
            "metadata": {
                "language": "sql",
                "azdata_cell_guid": "b351b803-2a5d-4df0-92dd-55cad8a16023"
            },
            "outputs": [],
            "execution_count": null
        }
    ]
}