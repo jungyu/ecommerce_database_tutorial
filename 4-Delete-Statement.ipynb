{
    "metadata": {
        "kernelspec": {
            "name": "SQL",
            "display_name": "SQL",
            "language": "sql"
        },
        "language_info": {
            "name": "sql",
            "version": ""
        }
    },
    "nbformat_minor": 2,
    "nbformat": 4,
    "cells": [
        {
            "cell_type": "markdown",
            "source": [
                "**學習參考：**\n",
                "\n",
                "- Microsoft SQL 文件： [https://docs.microsoft.com/zh-tw/sql/?view=sql-server-ver15](https://docs.microsoft.com/zh-tw/sql/?view=sql-server-ver15)\n",
                "- W3School： [https://www.w3schools.com/sql/sql\\_select.asp](https://www.w3schools.com/sql/sql_select.asp)\n",
                "- SQL Tutorial： [https://sqltutorial.org/](https://sqltutorial.org/)"
            ],
            "metadata": {
                "azdata_cell_guid": "8b5a1d3b-5c72-4d6a-ae93-8b548253ba87"
            },
            "attachments": {}
        },
        {
            "cell_type": "code",
            "source": [
                "-- 切換使用 [shop] 資料庫 --\n",
                "USE [shop];"
            ],
            "metadata": {
                "azdata_cell_guid": "5d375c3c-f70b-4f1d-a102-eeb3983a591d",
                "language": "sql"
            },
            "outputs": [],
            "execution_count": null
        },
        {
            "cell_type": "markdown",
            "source": [
                "### DELETE 語法\n",
                "\n",
                "<span class=\"sqlkeywordcolor\" style=\"box-sizing: inherit; color: mediumblue;\">DELETE</span> <span class=\"sqlkeywordcolor\" style=\"box-sizing: inherit; color: mediumblue;\">FROM</span> _table\\_name_ <span class=\"sqlkeywordcolor\" style=\"box-sizing: inherit; color: mediumblue;\">WHERE</span> _condition_;\n",
                "\n",
                "**<mark>注意：具安全性的刪除一定會使用 WHERE 以限定範圍  \n",
                "</mark>****<mark>提示：或可以採用軟刪除的作法，以\\[Companies\\]資料表為例：\\[Status\\] = 0</mark>****<mark>  \n",
                "</mark>**"
            ],
            "metadata": {
                "language": "sql",
                "azdata_cell_guid": "c8a667c9-1316-47fd-8e1d-e87902b4f969"
            },
            "attachments": {}
        },
        {
            "cell_type": "code",
            "source": [
                "-- 指定 ID 進行軟刪除(更新狀態) --\n",
                "UPDATE [dbo].[Companies]\n",
                "SET [Status] = 0, [Modified] = GETDATE()\n",
                "WHERE [ID] = 16;"
            ],
            "metadata": {
                "language": "sql",
                "azdata_cell_guid": "5b64ce10-7ed1-4052-ba74-67d06d64f16d"
            },
            "outputs": [],
            "execution_count": null
        },
        {
            "cell_type": "code",
            "source": [
                "-- 刪除前先確認影響的範圍是否正確 --\n",
                "SELECT * FROM [dbo].[Companies]\n",
                "WHERE [Status] = 0;"
            ],
            "metadata": {
                "language": "sql",
                "azdata_cell_guid": "039d7881-ce91-41db-80f3-3f5456b23621",
                "tags": []
            },
            "outputs": [],
            "execution_count": null
        },
        {
            "cell_type": "code",
            "source": [
                "-- 對於狀態[Status] = 0 的公司資料進行硬刪除 --\n",
                "DELETE FROM [dbo].[Companies]\n",
                "WHERE [Status] = 0;"
            ],
            "metadata": {
                "language": "sql",
                "azdata_cell_guid": "9982dd17-1ea2-4333-8916-b907c49ed8bc",
                "tags": []
            },
            "outputs": [],
            "execution_count": null
        },
        {
            "cell_type": "markdown",
            "source": [
                "<mark><span style=\"color: #008000;\">提示：</span><span style=\"color: rgb(0, 128, 0);\">刪除資料後，若再新增資料，主鍵[ID]並不會去填補空掉的ID，或從現有的最新 ID + 1，這在資料維護上是合理的，</span></mark>\n",
                "\n",
                "<span style=\"color: rgb(0, 128, 0); background-color: yellow;\">警告：切勿手動 INSERT 時指定 ID，或強迫現有的資料去更新[ID]，除非你知道自己在做什麼，否則這在關聯式資料庫裡是會造成災難的。</span>"
            ],
            "metadata": {
                "language": "sql",
                "azdata_cell_guid": "b9f41a73-43ed-4d90-9d9c-1ca0145d28d7"
            },
            "attachments": {}
        },
        {
            "cell_type": "markdown",
            "source": [
                "### TRUNCATE TABLE 語法\n",
                "\n",
                "<span class=\"sqlkeywordcolor\" style=\"box-sizing: inherit; color: mediumblue;\">TRUNCATE TABLE</span> _table\\_name_ <span class=\"sqlkeywordcolor\" style=\"box-sizing: inherit; color: mediumblue;\">WHERE</span>;\n",
                "\n",
                "<span style=\"color: rgb(0, 128, 0); background-color: yellow;\">注意：在清空前是否有預先備份？</span>\n",
                "\n",
                "<span style=\"color: rgb(0, 128, 0); background-color: yellow;\">提示：清空資料表後，主鍵[ID]會重新歸零計數</span>"
            ],
            "metadata": {
                "language": "sql",
                "azdata_cell_guid": "3cf1c215-bb6b-4527-93ba-a4fe4046b79b"
            },
            "attachments": {}
        },
        {
            "cell_type": "code",
            "source": [
                "-- 清空 TRUNCATE 資料表參考： https://docs.microsoft.com/zh-tw/sql/t-sql/statements/truncate-table-transact-sql?view=sql-server-ver15 --\n",
                "TRUNCATE TABLE [dbo].[Companies];"
            ],
            "metadata": {
                "language": "sql",
                "azdata_cell_guid": "3833a340-0695-4eb3-a18f-ca2eeb986d08"
            },
            "outputs": [],
            "execution_count": null
        }
    ]
}