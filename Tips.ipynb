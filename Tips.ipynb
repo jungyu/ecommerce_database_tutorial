{
    "metadata": {
        "kernelspec": {
            "name": "SQL",
            "display_name": "SQL",
            "language": "sql"
        },
        "language_info": {
            "name": "sql",
            "version": ""
        }
    },
    "nbformat_minor": 2,
    "nbformat": 4,
    "cells": [
        {
            "cell_type": "markdown",
            "source": [
                "\\# 如何匯入資料時，連同識別 ID 欄位一起\n",
                "\n",
                "參考：　[https://docs.microsoft.com/zh-tw/sql/t-sql/statements/set-identity-insert-transact-sql?view=sql-server-ver15](https://docs.microsoft.com/zh-tw/sql/t-sql/statements/set-identity-insert-transact-sql?view=sql-server-ver15)\n",
                "\n",
                "SQL Server 為了保護資料主鍵的正確性，預設是將 <span style=\"color: rgb(33, 33, 33); font-family: Consolas, &quot;Courier New&quot;, monospace; font-size: 12px; white-space: pre;\">IDENTITY_INSERT 設定為 OFF 的</span>\n",
                "\n",
                "<span style=\"color: rgb(33, 33, 33); font-family: Consolas, &quot;Courier New&quot;, monospace; font-size: 12px; white-space: pre;\">如果要手動匯入大量資料時，需記得將 </span> <span style=\"color: rgb(33, 33, 33); font-family: Consolas, &quot;Courier New&quot;, monospace; font-size: 12px; white-space: pre;\">IDENTITY_INSERT 設定為 ON ，完成後，再改回 OFF ，範例如下：</span>"
            ],
            "metadata": {
                "azdata_cell_guid": "5f78488d-3764-41d9-8f0a-b5e6859ec286"
            },
            "attachments": {}
        },
        {
            "cell_type": "code",
            "source": [
                "USE [shop]\r\n",
                "GO\r\n",
                "\r\n",
                "SET IDENTITY_INSERT [dbo].[OrderStats] ON\r\n",
                "GO\r\n",
                "\r\n",
                "INSERT INTO [dbo].[OrderStats]\r\n",
                "           ([OrderID],[CustomerID]\r\n",
                "           ,[ParentID]\r\n",
                "           ,[NumItemsSold]\r\n",
                "           ,[TotalSales]\r\n",
                "           ,[TaxTotal]\r\n",
                "           ,[ShippingTotal]\r\n",
                "           ,[NetTotal]\r\n",
                "           ,[ReturningCustomer]\r\n",
                "           ,[Created]\r\n",
                "           ,[Status])\r\n",
                "     VALUES\r\n",
                "           (100001,1,0,1,0,0,0,0,0,'2022-5-19 01:00:00', 1)\r\n",
                "GO\r\n",
                "\r\n",
                "SET IDENTITY_INSERT [dbo].[OrderStats] OFF\r\n",
                "GO\r\n",
                ""
            ],
            "metadata": {
                "azdata_cell_guid": "7e1bf194-c323-4212-a098-d0e645cbeee6",
                "language": "sql"
            },
            "outputs": [],
            "execution_count": null
        }
    ]
}