{
  "nbformat": 4,
  "nbformat_minor": 0,
  "metadata": {
    "colab": {
      "name": "讀入csv或json轉換成insert_into之SQL指令.ipynb",
      "provenance": [],
      "collapsed_sections": []
    },
    "kernelspec": {
      "name": "python3",
      "display_name": "Python 3"
    },
    "language_info": {
      "name": "python"
    }
  },
  "cells": [
    {
      "cell_type": "markdown",
      "source": [
        "https://www.gstatic.com/ipranges/cloud.json\n"
      ],
      "metadata": {
        "id": "4q0vBrUKS7FZ"
      }
    },
    {
      "cell_type": "markdown",
      "source": [
        "IPv4 Subnet Calculator\n",
        "https://www.adminsub.net/ipv4-subnet-calculator/34.0.0.0/25\n"
      ],
      "metadata": {
        "id": "B08HmtfpTzqp"
      }
    },
    {
      "cell_type": "code",
      "execution_count": 1,
      "metadata": {
        "colab": {
          "base_uri": "https://localhost:8080/"
        },
        "id": "73CXh7QTSr7Z",
        "outputId": "695720da-2b96-4055-8d45-5843ab3284f0"
      },
      "outputs": [
        {
          "output_type": "stream",
          "name": "stdout",
          "text": [
            "35.185.45.164"
          ]
        }
      ],
      "source": [
        "!curl ipecho.net/plain"
      ]
    },
    {
      "cell_type": "code",
      "source": [
        "import pandas as pd"
      ],
      "metadata": {
        "id": "6kH0jwgg3Tw5"
      },
      "execution_count": 1,
      "outputs": []
    },
    {
      "cell_type": "code",
      "source": [
        "# Import CSV\n",
        "csvData = pd.read_csv (r'companies.csv')   \n",
        "df = pd.DataFrame(csvData)"
      ],
      "metadata": {
        "id": "S3YgZD-53kme"
      },
      "execution_count": 9,
      "outputs": []
    },
    {
      "cell_type": "code",
      "source": [
        "for row in df.itertuples():\n",
        "  print(\"INSERT INTO [shop].[dbo].[companies] ([CompanyName], [CompanySupervisor], [CompanyDesc], [CountryCode], [TaxID], [Url], [Email], [Phone], [Created], [Modified], [Status]) VALUES ('{CompanyName}', '{CompanySupervisor}', '{CompanyDesc}', '{CountryCode}', '{TaxID}', '{Url}', '{Email}', '{Phone}', '{Created}', '{Modified}', '{Status}');\"\n",
        "  .format(CompanyName=row.CompanyName,CompanySupervisor=row.CompanySupervisor,CompanyDesc=row.CompanyDesc,CountryCode=row.CountryCode,TaxID=row.TaxID,Url=row.Url,Email=row.Email,Phone=row.Phone,Created=row.Created,Modified=row.Modified,Status=row.Status))"
      ],
      "metadata": {
        "id": "GYi8gJFe3zno"
      },
      "execution_count": null,
      "outputs": []
    },
    {
      "cell_type": "code",
      "source": [
        "# importing the module\n",
        "import json"
      ],
      "metadata": {
        "id": "tOA6TIYaISs_"
      },
      "execution_count": 8,
      "outputs": []
    },
    {
      "cell_type": "code",
      "source": [
        "# Opening JSON file\n",
        "with open(r'companies.json') as json_file:\n",
        "    data = json.load(json_file)\n",
        "\n",
        "    for row in data:\n",
        "        print(\"INSERT INTO [shop].[dbo].[companies] ([CompanyName], [CompanySupervisor], [CompanyDesc], [CountryCode], [TaxID], [Url], [Email], [Phone], [Created], [Modified], [Status]) VALUES ('{CompanyName}', '{CompanySupervisor}', '{CompanyDesc}', '{CountryCode}', '{TaxID}', '{Url}', '{Email}', '{Phone}', '{Created}', '{Modified}', '{Status}');\"\n",
        "        .format(CompanyName=row['CompanyName'], CompanySupervisor=row['CompanySupervisor'], CompanyDesc=row['CompanyDesc'],CountryCode=row['CountryCode'], TaxID=row['TaxID'], Url=row['Url'], Email=row['Email'], Phone=row['Phone'], Created=row['Created'],  Modified=row['Modified'], Status=row['Status']))"
      ],
      "metadata": {
        "id": "734dMmipIiBu"
      },
      "execution_count": null,
      "outputs": []
    }
  ]
}