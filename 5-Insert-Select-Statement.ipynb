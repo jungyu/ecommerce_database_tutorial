{
    "metadata": {
        "kernelspec": {
            "name": "SQL",
            "display_name": "SQL",
            "language": "sql"
        },
        "language_info": {
            "name": "sql",
            "version": ""
        }
    },
    "nbformat_minor": 2,
    "nbformat": 4,
    "cells": [
        {
            "cell_type": "markdown",
            "source": [
                "**學習參考：**\n",
                "\n",
                "- Microsoft SQL 文件： [https://docs.microsoft.com/zh-tw/sql/?view=sql-server-ver15](https://docs.microsoft.com/zh-tw/sql/?view=sql-server-ver15)\n",
                "- W3School： [https://www.w3schools.com/sql/sql\\_select.asp](https://www.w3schools.com/sql/sql_select.asp)\n",
                "- SQL Tutorial： [https://sqltutorial.org/](https://sqltutorial.org/)"
            ],
            "metadata": {
                "azdata_cell_guid": "8b5a1d3b-5c72-4d6a-ae93-8b548253ba87"
            },
            "attachments": {}
        },
        {
            "cell_type": "code",
            "source": [
                "-- 切換使用 [shop] 資料庫 --\n",
                "USE [shop];"
            ],
            "metadata": {
                "azdata_cell_guid": "5d375c3c-f70b-4f1d-a102-eeb3983a591d",
                "language": "sql"
            },
            "outputs": [],
            "execution_count": null
        },
        {
            "cell_type": "markdown",
            "source": [
                "## INSERT INTO SELECT 語法\n",
                "\n",
                "<span class=\"sqlkeywordcolor\" style=\"box-sizing: inherit; color: mediumblue;\">INSERT INTO</span> _table\\_name_ (_column1_, _column2, ..._) <span class=\"sqlkeywordcolor\" style=\"font-family: -apple-system, BlinkMacSystemFont, &quot;PingFang TC&quot;, sans-serif; box-sizing: inherit; color: mediumblue;\">SELECT</span> _column1_, _column2, ..._ <span style=\"font-family: -apple-system, BlinkMacSystemFont, &quot;PingFang TC&quot;, sans-serif; color: rgb(0, 0, 205);\">FROM&nbsp;</span> _table\\_name_ <span class=\"sqlkeywordcolor\" style=\"box-sizing: inherit; color: mediumblue;\">WHERE</span> _condition_;"
            ],
            "metadata": {
                "language": "sql",
                "azdata_cell_guid": "c8a667c9-1316-47fd-8e1d-e87902b4f969"
            },
            "attachments": {}
        }
    ]
}