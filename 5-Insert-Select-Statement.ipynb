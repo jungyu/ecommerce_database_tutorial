{
    "cells": [
        {
            "attachments": {},
            "cell_type": "markdown",
            "metadata": {
                "azdata_cell_guid": "8b5a1d3b-5c72-4d6a-ae93-8b548253ba87"
            },
            "source": [
                "**學習參考：**\n",
                "\n",
                "- Microsoft SQL 文件： [https://docs.microsoft.com/zh-tw/sql/?view=sql-server-ver15](https://docs.microsoft.com/zh-tw/sql/?view=sql-server-ver15)\n",
                "- W3School： [https://www.w3schools.com/sql/sql\\_select.asp](https://www.w3schools.com/sql/sql_select.asp)\n",
                "- SQL Tutorial： [https://sqltutorial.org/](https://sqltutorial.org/)"
            ]
        },
        {
            "cell_type": "code",
            "execution_count": null,
            "metadata": {
                "azdata_cell_guid": "5d375c3c-f70b-4f1d-a102-eeb3983a591d",
                "language": "sql"
            },
            "outputs": [],
            "source": [
                "-- 切換使用 [shop] 資料庫 --\n",
                "USE [shop];"
            ]
        },
        {
            "attachments": {},
            "cell_type": "markdown",
            "metadata": {
                "azdata_cell_guid": "c8a667c9-1316-47fd-8e1d-e87902b4f969",
                "language": "sql"
            },
            "source": [
                "## INSERT INTO 語法\n",
                "\n",
                "INSERT INTO table_name (column1, column2, column3, ...)\n",
                "VALUES (value1, value2, value3, ...);"
            ]
        },
        {
            "cell_type": "code",
            "execution_count": null,
            "metadata": {},
            "outputs": [],
            "source": [
                "INSERT INTO [dbo].[Terms]\n",
                "           ([Name]\n",
                "           ,[Slug]\n",
                "           ,[TermGroup])\n",
                "     VALUES\n",
                "           ('日本製', 'MIJ', '0'),\n",
                "           ('台灣製', 'MIT', '0');"
            ]
        },
        {
            "cell_type": "code",
            "execution_count": null,
            "metadata": {},
            "outputs": [],
            "source": [
                "INSERT INTO [dbo].[TermTaxonomy]\n",
                "           ([TermID]\n",
                "           ,[Taxonomy]\n",
                "           ,[Description]\n",
                "           ,[Parent]\n",
                "           ,[Count])\n",
                "     VALUES\n",
                "           (1, 'category', '分類：日本製', 0, 0),\n",
                "           (2, 'category', '分類：台灣製', 0, 0);"
            ]
        },
        {
            "attachments": {},
            "cell_type": "markdown",
            "metadata": {},
            "source": [
                "## INSERT INTO SELECT 語法\n",
                "\n",
                "<span class=\"sqlkeywordcolor\" style=\"box-sizing: inherit; color: mediumblue;\">INSERT INTO</span> _table\\_name_ (_column1_, _column2, ..._) <span class=\"sqlkeywordcolor\" style=\"font-family: -apple-system, BlinkMacSystemFont, &quot;PingFang TC&quot;, sans-serif; box-sizing: inherit; color: mediumblue;\">SELECT</span> _column1_, _column2, ..._ <span style=\"font-family: -apple-system, BlinkMacSystemFont, &quot;PingFang TC&quot;, sans-serif; color: rgb(0, 0, 205);\">FROM&nbsp;</span> _table\\_name_ <span class=\"sqlkeywordcolor\" style=\"box-sizing: inherit; color: mediumblue;\">WHERE</span> _condition_;"
            ]
        },
        {
            "cell_type": "code",
            "execution_count": null,
            "metadata": {},
            "outputs": [],
            "source": [
                "INSERT INTO [dbo].[TermRelationships]\n",
                "           ([ObjectID]\n",
                "           ,[TermTaxonomyID]\n",
                "           ,[TermOrder])\n",
                "SELECT  [ID], 1, 0\n",
                "  FROM [shop].[dbo].[Products]\n",
                "  WHERE [ProductTitle] LIKE '%日本製%'"
            ]
        }
    ],
    "metadata": {
        "kernelspec": {
            "display_name": "SQL",
            "language": "sql",
            "name": "SQL"
        },
        "language_info": {
            "name": "sql",
            "version": ""
        }
    },
    "nbformat": 4,
    "nbformat_minor": 2
}
