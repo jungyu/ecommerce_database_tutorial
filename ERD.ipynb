{
 "cells": [
  {
   "cell_type": "markdown",
   "metadata": {},
   "source": [
    "#公司關聯圖\n",
    "\n",
    "![公司關聯圖](images/Diagram_%E5%85%AC%E5%8F%B8.JPG)"
   ]
  },
  {
   "cell_type": "markdown",
   "metadata": {},
   "source": [
    "#商品關聯圖\n",
    "\n",
    "![商品關聯圖](images/Diagram_%E5%95%86%E5%93%81.JPG)\n"
   ]
  },
  {
   "cell_type": "markdown",
   "metadata": {},
   "source": [
    "# 商品分類關聯圖\n",
    "\n",
    "![商品分類關聯圖](images/Diagram_%E5%95%86%E5%93%81%E5%88%86%E9%A1%9E.JPG)"
   ]
  },
  {
   "cell_type": "markdown",
   "metadata": {},
   "source": [
    "#訂單關聯圖\n",
    "\n",
    "![訂單關聯圖](images/Diagram_%E8%A8%82%E5%96%AE.JPG)"
   ]
  },
  {
   "cell_type": "markdown",
   "metadata": {},
   "source": [
    "## 練習1：商品庫存關聯圖\n",
    "\n",
    "## 練習2：訂單折價券關聯圖"
   ]
  }
 ],
 "metadata": {
  "language_info": {
   "name": "python"
  },
  "orig_nbformat": 4
 },
 "nbformat": 4,
 "nbformat_minor": 2
}
