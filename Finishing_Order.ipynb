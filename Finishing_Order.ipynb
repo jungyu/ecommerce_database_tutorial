{
    "metadata": {
        "kernelspec": {
            "name": "SQL",
            "display_name": "SQL",
            "language": "sql"
        },
        "language_info": {
            "name": "sql",
            "version": ""
        }
    },
    "nbformat_minor": 2,
    "nbformat": 4,
    "cells": [
        {
            "cell_type": "markdown",
            "source": [
                "1. 商品的單價在 \\[dbo\\].\\[ProductMeta\\] 裡 MetaKey = Price，需從該表取得單價，再乘以銷售數量，更新到 \\[dbo\\].\\[OrderProduct\\] 的 \\[ProductNetRevenue\\] 銷售淨額欄位中\n",
                "2. 每件商品的成本不同，因為無原始數據，因此為 ProductMeta 資料表，再新建一個 MetaKey = Cost ，MetaValue = 採 0.4~0.7 隨機的方式賦予\n",
                "3. 根據 2 ，再計算 \\[OrderProduct\\] 表中的 \\[ProductGrossRevenue\\] 商品毛利\n",
                "4. 依營業稅 5%的計算方式，計算商品稅額，寫入 \\[OrderProduct\\] 表中的 \\[TaxAmount\\] 欄位中\n",
                "5. 依據 \\[OrderProduct\\] 內的資訊，寫入 \\[OrderStats\\] 表中的 \\[TotalSales\\], \\[TaxTotal\\], \\[NetTotal\\] 欄位"
            ],
            "metadata": {
                "azdata_cell_guid": "98ed7dcc-d717-452f-863c-74d7073eb04f"
            },
            "attachments": {}
        },
        {
            "cell_type": "markdown",
            "source": [
                "A ∪ B   Set union: 將兩個集合合二為一\n",
                "\n",
                "A ∩ B   Set intersection: A 和 B 共有的成員\n",
                "\n",
                "A − B   Set difference: 不在 B 中的 A 的成員\n",
                "\n",
                "以上轉換成 SQL 語法:\n",
                "\n",
                "A ∪ B : UNION or UNION ALL (UNION 消除重複, UNION ALL 全部保留)\n",
                "\n",
                "A ∩ B : INTERSECT 相交\n",
                "\n",
                "A − B : EXCEPT 除了"
            ],
            "metadata": {
                "language": "sql",
                "azdata_cell_guid": "f2550404-a7c4-43f9-b0ee-649ff37c97ad"
            },
            "attachments": {}
        },
        {
            "cell_type": "code",
            "source": [
                "-- 1. 先執行 Convert_json2sql_Products.ipynb 的練習1\n",
                "\n",
                "-- 2. 因為有許多商品並沒有加入 price 這個欄位，所以要補齊\n",
                "INSERT INTO [ProductMeta] ([ProductID] ,  [MetaKey],  [MetaValue]) \n",
                "SELECT [ID], 'price', '' FROM [Products]\n",
                "EXCEPT\n",
                "SELECT [ProductID], 'price', '' FROM [ProductMeta] WHERE [MetaKey] = 'price';\n",
                "\n",
                "-- 3. 因為有許多都沒有 price ，所以再執行以下：(隨機100~200 之間的整數數字)\n",
                "UPDATE ProductMeta SET [MetaValue] = FLOOR(RAND(CHECKSUM(NEWID()))*(200-100+1))+100 WHERE [MetaKey]= 'price' and [MetaValue] = '';"
            ],
            "metadata": {
                "language": "sql",
                "azdata_cell_guid": "9c3f12d0-e4b7-482a-9267-666241b396d4",
                "tags": []
            },
            "outputs": [],
            "execution_count": null
        },
        {
            "cell_type": "code",
            "source": [
                "-- 檢視 [Productmeta] \n",
                "SELECT TOP 1000 [ProductID], [MetaValue] FROM [ProductMeta] WHERE [MetaKey] = 'price' \n",
                "\n",
                "-- 發現其中有一筆資料的價格是 199-499 ，因為是文字屬性所以無法計算，只能暫且給予一個值，要解決這個問題需要從來源資料結構上著手\n",
                "-- UPDATE ProductMeta SET MetaValue = 499 WHERE ProductID = 11 AND MetaKey = 'price' "
            ],
            "metadata": {
                "azdata_cell_guid": "b735c4f6-4634-40c3-8517-e59c3021138e",
                "language": "sql"
            },
            "outputs": [],
            "execution_count": null
        },
        {
            "cell_type": "code",
            "source": [
                "-- 1.商品的單價在 [dbo].[ProductMeta] 裡 MetaKey = Price，需從該表取得單價，再乘以銷售數量，更新到 [dbo].[OrderProduct] 的 [ProductNetRevenue] 銷售淨額欄位中 --\n",
                "UPDATE A \n",
                "SET A.[ProductNetRevenue] = B.[MetaValue] * A.[ProductQuantity]\n",
                "FROM \n",
                "    [OrderProduct] AS A\n",
                "    INNER JOIN [ProductMeta] AS B\n",
                "    ON A.[ProductID] = B.[ProductID]\n",
                "WHERE\n",
                "    B.[MetaKey] = 'price';\n",
                ""
            ],
            "metadata": {
                "language": "sql",
                "azdata_cell_guid": "3e1cdf7e-bce8-456b-8cbc-3e2317c0ae4e"
            },
            "outputs": [],
            "execution_count": null
        },
        {
            "cell_type": "markdown",
            "source": [
                "1. `CAST()`: [https://docs.microsoft.com/en-us/sql/t-sql/functions/cast-and-convert-transact-sql](https://docs.microsoft.com/en-us/sql/t-sql/functions/cast-and-convert-transact-sql)\n",
                "2. `RAND()`: [http://msdn.microsoft.com/en-us/library/ms177610.aspx](http://msdn.microsoft.com/en-us/library/ms177610.aspx)\n",
                "3. `CHECKSUM()`: [http://msdn.microsoft.com/en-us/library/ms189788.aspx](http://msdn.microsoft.com/en-us/library/ms189788.aspx)\n",
                "4. `NEWID()`: [https://docs.microsoft.com/en-us/sql/t-sql/functions/newid-transact-sql](https://docs.microsoft.com/en-us/sql/t-sql/functions/newid-transact-sql) \n",
                "5. 視覺化表達 SQL JOIN ： [https://www.codeproject.com/Articles/33052/Visual-Representation-of-SQL-Joins](https://www.codeproject.com/Articles/33052/Visual-Representation-of-SQL-Joins)"
            ],
            "metadata": {
                "language": "sql",
                "azdata_cell_guid": "f7929f67-cc2b-4a31-80ab-fe00b66c3032"
            },
            "attachments": {}
        },
        {
            "cell_type": "code",
            "source": [
                "-- 2.每件商品的成本不同，因為無原始數據，因此為 ProductMeta 資料表，再新建一個 MetaKey = Cost ，MetaValue = 採 40~70 % 隨機的方式賦予\n",
                "-- Step 1\n",
                "INSERT INTO [ProductMeta] ([ProductID] ,  [MetaKey],  [MetaValue]) \n",
                "SELECT [ProductID], 'cost', CAST(RAND(CHECKSUM(NEWID())) * 40 as INT) + 40 FROM [ProductMeta] WHERE [MetaKey] = 'price';\n",
                "\n",
                "-- 因為 MetaValue 的欄位型別是 nvarchar ，沒辦法進行數學計算，所以要用 CAST 來轉換型別，以下是測試練習\n",
                "-- SELECT CAST([MetaValue] AS DECIMAL(8,2) ) FROM ProductMeta WHERE [MetaKey] = 'cost'\n",
                "\n",
                "-- Step 2\n",
                "UPDATE A \n",
                "SET A.[MetaValue] = CAST(B.[MetaValue] AS DECIMAL(8,2) ) * CAST(A.[MetaValue] AS DECIMAL(8,2) ) / 100\n",
                "FROM \n",
                "    [ProductMeta] AS A\n",
                "    INNER JOIN [ProductMeta] AS B\n",
                "    ON A.[ProductID] = B.[ProductID]\n",
                "WHERE\n",
                "    B.[MetaKey] = 'price' AND A.[MetaKey] = 'cost';\n",
                "\n",
                "-- 問題：組合新的語法一次就新增完成？\n",
                ""
            ],
            "metadata": {
                "language": "sql",
                "azdata_cell_guid": "72349508-be8e-4027-8be4-ac7c03eac700"
            },
            "outputs": [],
            "execution_count": null
        },
        {
            "cell_type": "code",
            "source": [
                "-- 3. 計算 [OrderProduct] 表中的 [ProductGrossRevenue] 商品毛利收入\n",
                "-- SELECT A.[ProductID], A.[ProductNetRevenue] - (B.[MetaValue] * A.[ProductQuantity])\n",
                "UPDATE A\n",
                "SET A.[ProductGrossRevenue] = A.[ProductNetRevenue] - (B.[MetaValue] * A.[ProductQuantity])\n",
                "FROM \n",
                "    [ProductMeta] AS B\n",
                "    INNER JOIN [OrderProduct] AS A\n",
                "    ON A.[ProductID] = B.[ProductID]\n",
                "WHERE B.[MetaKey] = 'cost'"
            ],
            "metadata": {
                "language": "sql",
                "azdata_cell_guid": "3c93ec62-932a-42d5-aa62-a655d4fa49f1"
            },
            "outputs": [],
            "execution_count": null
        },
        {
            "cell_type": "code",
            "source": [
                "-- 4. 依營業稅 5% 的計算方式，計算商品稅額，寫入 [OrderProduct] 表中的 [TaxAmount] 欄位中(三聯發票的作法)\n",
                "UPDATE [OrderProduct]\n",
                "SET [TaxAmount] = [ProductNetRevenue] * 0.05"
            ],
            "metadata": {
                "azdata_cell_guid": "e94a1e63-123f-46b6-bdb5-4b6ceb3ce56a",
                "language": "sql"
            },
            "outputs": [
                {
                    "output_type": "display_data",
                    "data": {
                        "text/html": "(90718 個資料列受到影響)"
                    },
                    "metadata": {}
                },
                {
                    "output_type": "display_data",
                    "data": {
                        "text/html": "總執行時間: 00:00:00.248"
                    },
                    "metadata": {}
                }
            ],
            "execution_count": 71
        },
        {
            "cell_type": "code",
            "source": [
                "-- 5. 依據 [OrderProduct] 內的資訊，寫入 [OrderStats] 表中的 [TotalSales], [TaxTotal], [NetTotal] 欄位\n",
                "-- SELECT A.[ProductNetRevenue] + A.[TaxAmount], A.[TaxAmount], A.[ProductNetRevenue]\n",
                "UPDATE B\n",
                "SET B.TotalSales = A.[ProductNetRevenue] + A.[TaxAmount], B.TaxTotal = A.TaxAmount, B.NetTotal = A.ProductNetRevenue\n",
                "FROM\n",
                "    [OrderStats] AS B\n",
                "    INNER JOIN [OrderProduct] AS A\n",
                "    ON A.[OrderID] = B.[OrderID]\n",
                ""
            ],
            "metadata": {
                "language": "sql",
                "azdata_cell_guid": "004d6b94-0e2c-49f8-9450-b5d7399eeb43"
            },
            "outputs": [
                {
                    "output_type": "display_data",
                    "data": {
                        "text/html": "(90717 個資料列受到影響)"
                    },
                    "metadata": {}
                },
                {
                    "output_type": "display_data",
                    "data": {
                        "text/html": "總執行時間: 00:00:02.233"
                    },
                    "metadata": {}
                }
            ],
            "execution_count": 73
        }
    ]
}