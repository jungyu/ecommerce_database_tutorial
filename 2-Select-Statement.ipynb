{
    "metadata": {
        "kernelspec": {
            "name": "SQL",
            "display_name": "SQL",
            "language": "sql"
        },
        "language_info": {
            "name": "sql",
            "version": ""
        }
    },
    "nbformat_minor": 2,
    "nbformat": 4,
    "cells": [
        {
            "cell_type": "markdown",
            "source": [
                "**學習參考：**\n",
                "\n",
                "- Microsoft SQL 文件： [https://docs.microsoft.com/zh-tw/sql/?view=sql-server-ver15](https://docs.microsoft.com/zh-tw/sql/?view=sql-server-ver15)\n",
                "- W3School： [https://www.w3schools.com/sql/sql\\_select.asp](https://www.w3schools.com/sql/sql_select.asp)\n",
                "- SQL Tutorial： [https://sqltutorial.org/](https://sqltutorial.org/)"
            ],
            "metadata": {
                "azdata_cell_guid": "83c361ca-378f-4cd7-8574-007ff1871fd6"
            },
            "attachments": {}
        },
        {
            "cell_type": "code",
            "source": [
                "-- 切換使用 [shop] 資料庫 --\n",
                "USE [shop];"
            ],
            "metadata": {
                "language": "sql",
                "azdata_cell_guid": "0b1a5752-6643-484e-b496-32cceacf2905"
            },
            "outputs": [],
            "execution_count": null
        },
        {
            "cell_type": "markdown",
            "source": [
                "### **SELECT 語法**\n",
                "\n",
                "<span class=\"sqlkeywordcolor\" style=\"box-sizing: inherit; color: mediumblue;\">SELECT</span> _column1_, _column2, ..._  \n",
                "<span class=\"sqlkeywordcolor\" style=\"box-sizing: inherit; color: mediumblue;\">FROM</span> _table\\_name_;"
            ],
            "metadata": {
                "language": "sql",
                "azdata_cell_guid": "f0fd79d4-068f-40d1-93ec-62002284687f"
            },
            "attachments": {}
        },
        {
            "cell_type": "code",
            "source": [
                "-- 查詢 SELECT 參考： https://docs.microsoft.com/zh-tw/sql/t-sql/queries/select-transact-sql?view=sql-server-ver15 --\n",
                "\n",
                "-- 查詢[公司]資料表內全部資料 --\n",
                "SELECT * FROM [dbo].[Companies];\n",
                "\n",
                "-- Notice: 若筆數超過萬筆，查詢將造成系統過重負載，SSMS 預設只查前 1000 筆 --"
            ],
            "metadata": {
                "azdata_cell_guid": "cdc4e8d6-e32e-4501-8046-a7d00271ff6b",
                "language": "sql",
                "tags": []
            },
            "outputs": [],
            "execution_count": null
        },
        {
            "cell_type": "code",
            "source": [
                "-- 參考：https://docs.microsoft.com/zh-tw/sql/relational-databases/system-information-schema-views/system-information-schema-views-transact-sql?view=sql-server-ver15 \n",
                "\n",
                "-- 查詢[公司]資料表完整結構 --\n",
                "SELECT *\n",
                "FROM INFORMATION_SCHEMA.COLUMNS\n",
                "WHERE TABLE_NAME ='Companies';"
            ],
            "metadata": {
                "language": "sql",
                "azdata_cell_guid": "06fda73e-c20b-4e71-b326-2cd3bf5ccd0e",
                "tags": []
            },
            "outputs": [],
            "execution_count": null
        },
        {
            "cell_type": "code",
            "source": [
                "-- 查詢[公司]資料表內指定欄位，例：ID、公司名稱、統一編號 --\n",
                "SELECT [ID], [CompanyName], [TaxID] \n",
                "FROM [dbo].[Companies];\n",
                "\n",
                "-- 小測驗：查詢[公司]資料表內指定欄位，例：ID、公司名稱、統一編號、電子郵件、電話號碼 --"
            ],
            "metadata": {
                "language": "sql",
                "azdata_cell_guid": "b3ede612-9163-4f5b-b8fa-29e42beee590"
            },
            "outputs": [],
            "execution_count": null
        },
        {
            "cell_type": "code",
            "source": [
                "-- 搜尋範圍 WHERE ：https://docs.microsoft.com/zh-tw/sql/t-sql/queries/where-transact-sql?view=sql-server-ver15 --\n",
                "\n",
                "-- 查詢[公司]資料表內，沒有統一編號的公司 -- \n",
                "SELECT [ID], [CompanyName], [TaxID], [Phone], [Email]\n",
                "FROM [dbo].[Companies] \n",
                "WHERE [TaxID] = 'NaN';\n",
                "\n",
                "-- 小測驗：查詢[公司]資料表內，沒有電話[Phone]的公司 --"
            ],
            "metadata": {
                "language": "sql",
                "azdata_cell_guid": "59ec4d7c-fe92-440c-a4fd-272fb60320d6"
            },
            "outputs": [],
            "execution_count": null
        },
        {
            "cell_type": "code",
            "source": [
                "-- 排序 ORDER BY： https://docs.microsoft.com/zh-tw/sql/ssms/visual-db-tools/sort-with-order-by-visual-database-tools?view=sql-server-ver15 --\n",
                "\n",
                "-- 查詢[公司]資料表，顯示依據電話號碼升幂排序 -- \n",
                "SELECT [ID], [CompanyName], [TaxID], [Phone] \n",
                "FROM [dbo].[Companies] \n",
                "ORDER BY [Phone] ASC;\n",
                "\n",
                "-- 小測驗：查詢[公司]資料表，顯示依據公司統一編號 [TaxID] 降幂 DESC 排序"
            ],
            "metadata": {
                "language": "sql",
                "azdata_cell_guid": "57481491-2d52-4c28-b3b2-866737c56222"
            },
            "outputs": [],
            "execution_count": null
        },
        {
            "cell_type": "code",
            "source": [
                "-- 查詢[公司]資料表內，沒有統一編號的公司，依電話號碼升幂排序 -- \n",
                "SELECT [ID], [CompanyName], [TaxID], [Phone] \n",
                "FROM [dbo].[Companies]\n",
                "WHERE [TaxID] = 'NaN'\n",
                "ORDER BY [Phone] ASC;\n",
                "\n",
                "-- 小測驗：查詢[公司]資料表內，沒有電子郵件[Email]的公司，依[ID]升幂排序 -- "
            ],
            "metadata": {
                "language": "sql",
                "azdata_cell_guid": "0caeacb6-8047-471e-976c-672f6dcd8b4d"
            },
            "outputs": [],
            "execution_count": null
        },
        {
            "cell_type": "code",
            "source": [
                "-- 查詢[公司]資料表內，仍營運中 [Status] = 1 的前10筆，依電話號碼升幂排序 --\n",
                "SELECT TOP 10 [ID], [CompanyName], [TaxID], [Phone]\n",
                "FROM [dbo].[Companies]\n",
                "WHERE [Status] = 1\n",
                "ORDER BY [Phone] ASC;\n",
                "\n",
                "-- 小測驗：取公司類別 [CompanyType] = 'retailer' 的前5筆，依 [ID] 升幂排序 --"
            ],
            "metadata": {
                "language": "sql",
                "azdata_cell_guid": "b1dcede5-3edd-426f-bb16-a8eaf6291107"
            },
            "outputs": [],
            "execution_count": null
        },
        {
            "cell_type": "code",
            "source": [
                "-- 查詢[公司]資料表內，仍營運中 [Status] = 1 的第6-10筆，依 ID 升幂排序 --\n",
                "SELECT [ID], [CompanyName], [TaxID], [Phone], [Email]\n",
                "FROM [dbo].[Companies]\n",
                "WHERE [Status] = 1\n",
                "ORDER BY [ID] ASC\n",
                "OFFSET 5 ROWS\n",
                "FETCH Next 5 ROWS ONLY;\n",
                "\n",
                "-- 小測驗：國家代碼為 TWN 的第10-15筆，依 ID 升幂排序 -- "
            ],
            "metadata": {
                "language": "sql",
                "azdata_cell_guid": "aa462ba4-3a8b-4987-a949-e918a94697d9"
            },
            "outputs": [],
            "execution_count": null
        },
        {
            "cell_type": "code",
            "source": [
                "-- 查詢[公司]資料表內，模糊搜尋電話號碼裡頭有 88  --\n",
                "SELECT [ID], [CompanyName], [TaxID], [Phone], [Email]\n",
                "FROM [dbo].[Companies]\n",
                "WHERE [Phone] LIKE '%88%'\n",
                "ORDER BY [ID] ASC;\n",
                "\n",
                "-- 小測驗：電話號碼裡是 02 開頭的 --"
            ],
            "metadata": {
                "language": "sql",
                "azdata_cell_guid": "b1de29f4-aef0-4077-9cea-9d6496a1c28a"
            },
            "outputs": [],
            "execution_count": null
        },
        {
            "cell_type": "code",
            "source": [
                "-- 邏輯：AND 與 OR 運算子的使用：https://docs.microsoft.com/zh-tw/sql/t-sql/language-elements/or-transact-sql?view=sql-server-ver15\n",
                "\n",
                "-- 查詢[公司]資料表內，沒有統一編號[TaxID]或者沒有電子郵件[Email]的公司 --\n",
                "SELECT [ID], [CompanyName], [TaxID], [Phone], [Email]\n",
                "FROM [dbo].[Companies] \n",
                "WHERE [TaxID] = 'NaN' OR [Email] = 'NaN';\n",
                "\n",
                "-- 查詢[公司]資料表內，有完整填寫：統一編號[TaxID]、電話[Phone]及電子郵件[Email]的公司 --\n",
                "SELECT [ID], [CompanyName], [TaxID], [Phone], [Email]\n",
                "FROM [dbo].[Companies] \n",
                "WHERE [TaxID] != 'NaN' AND [Email] != 'NaN' AND [Phone] != 'NaN';\n",
                "\n",
                "-- 小測驗：查詢[公司]資料表內，國別代碼[CountryCode] = 'TWN' 以及網站網址[Url]使用 .tw 的公司 -- "
            ],
            "metadata": {
                "language": "sql",
                "azdata_cell_guid": "8c5ad902-4f6e-4920-a810-74192a3a6133"
            },
            "outputs": [],
            "execution_count": null
        },
        {
            "cell_type": "code",
            "source": [
                "-- 比較運算子：https://docs.microsoft.com/zh-tw/sql/t-sql/language-elements/comparison-operators-transact-sql?view=sql-server-ver15 --\n",
                "-- 查詢在 2022-04-01 之後有修改資料[Modified]的公司 --\n",
                "SELECT *\n",
                "FROM [dbo].[Companies]\n",
                "WHERE [Modified] > '2022-04-01 00:00:00'\n",
                "\n",
                "-- 查詢在 2022-05-01 之前建立資料[Created]的公司 --"
            ],
            "metadata": {
                "language": "sql",
                "azdata_cell_guid": "86bed0f8-306e-4b83-8cc7-45f419f2c303"
            },
            "outputs": [],
            "execution_count": null
        },
        {
            "cell_type": "code",
            "source": [
                "-- 查詢公司類型有那些 --\n",
                "SELECT DISTINCT [CompanyType] \n",
                "FROM [dbo].[Companies];\n",
                "\n",
                "-- 小測驗：查詢公司的國別有那些？ --"
            ],
            "metadata": {
                "azdata_cell_guid": "750294e1-a770-4d02-8eea-47dd0b8206d1",
                "language": "sql"
            },
            "outputs": [],
            "execution_count": null
        },
        {
            "cell_type": "code",
            "source": [
                "-- GROUP BY 語法參考： https://docs.microsoft.com/zh-tw/sql/t-sql/queries/select-group-by-transact-sql?view=sql-server-ver15 --\n",
                "\n",
                "-- COUNT() 函數參考： https://docs.microsoft.com/zh-tw/sql/t-sql/functions/count-transact-sql?view=sql-server-ver15 --\n",
                "-- 計數國別代碼[CountryCode] = 'TWN' 的公司有幾間 --\n",
                "SELECT COUNT(*)\n",
                "FROM [dbo].[Companies]\n",
                "WHERE [CountryCode] = 'TWN'\n",
                "GROUP BY [CountryCode];\n",
                "\n",
                "-- 小測驗：計數 2022-04-01 之後有修改資料[Modified]的公司有幾間 --"
            ],
            "metadata": {
                "language": "sql",
                "azdata_cell_guid": "f16039bb-d5db-4e84-8296-6398c8c07a1a"
            },
            "outputs": [],
            "execution_count": null
        },
        {
            "cell_type": "code",
            "source": [
                "-- STRING_AGG() 函數參考： https://docs.microsoft.com/zh-tw/sql/t-sql/functions/string-agg-transact-sql?view=sql-server-ver15 --\n",
                "-- 使用 STRING_AGG 函數，連接國別代碼[CountryCode] = 'TWN' 的公司[ID] --\n",
                "SELECT STRING_AGG([ID], ', ')\n",
                "FROM [dbo].[Companies]\n",
                "WHERE [CountryCode] = 'TWN'\n",
                "GROUP BY [CountryCode];\n",
                "\n",
                "-- 小測驗：連接公司類別[CompanyType] 為零售商 retailer 的公司的電子郵件[Email]，並且電子郵件不得為 NaN --"
            ],
            "metadata": {
                "language": "sql",
                "azdata_cell_guid": "98880751-67be-4b42-ba1d-72a5a8b0f9b5",
                "tags": []
            },
            "outputs": [],
            "execution_count": null
        },
        {
            "cell_type": "code",
            "source": [
                "-- Having 語法參考： https://docs.microsoft.com/zh-tw/sql/t-sql/queries/select-having-transact-sql?view=sql-server-ver15 --\n",
                "-- 列出[公司]資料表內，各國的公司各有幾間 --\n",
                "SELECT COUNT(ID), [CountryCode]\n",
                "FROM [dbo].[Companies]\n",
                "GROUP BY [CountryCode]\n",
                "HAVING COUNT([ID]) > 5\n",
                "ORDER BY COUNT([ID]) DESC;\n",
                "\n",
                "-- 問題：你還有想到可以怎麼運用？ --"
            ],
            "metadata": {
                "language": "sql",
                "azdata_cell_guid": "304fd308-8940-4e73-8f7c-9470d43b74ec"
            },
            "outputs": [],
            "execution_count": null
        },
        {
            "cell_type": "code",
            "source": [
                "-- 使用 ROUND 函式，四捨五入到指定位數 --\n",
                "SELECT [ID], [CompanyName], ROUND([TaxID], 0) \n",
                "FROM [dbo].[Companies];"
            ],
            "metadata": {
                "language": "sql",
                "azdata_cell_guid": "e7d4a04e-dfe2-4909-9cd7-28afa6a7395a",
                "tags": []
            },
            "outputs": [],
            "execution_count": null
        },
        {
            "cell_type": "markdown",
            "source": [
                "**討論：**為什麼使用 ROUND() 函式後，許多資料不見了？"
            ],
            "metadata": {
                "language": "sql",
                "azdata_cell_guid": "72c67396-9554-4730-a835-f6bce209357f"
            },
            "attachments": {}
        },
        {
            "cell_type": "code",
            "source": [
                "-- 作業練習1 --\n",
                "\n",
                "/*\n",
                " 使用 ROUND 函式，四捨五入到指定位數 --\n",
                " 參考： https://docs.microsoft.com/zh-tw/sql/t-sql/functions/round-transact-sql?view=sql-server-ver15\n",
                " */\n",
                "SELECT ROUND('70473585.0', 0);\n",
                "\n",
                "/*\n",
                " 使用 DECLARE 宣告變數\n",
                " 使用 CASE WHEN .. THEN .. ELSE .. END 進行判斷\n",
                " 參考： https://docs.microsoft.com/zh-tw/sql/t-sql/language-elements/case-transact-sql?view=sql-server-ver15\n",
                " */\n",
                "DECLARE @d VARCHAR(3) ='NaN'\n",
                "SELECT CASE WHEN @d = 'NaN' THEN '0' ELSE @d END"
            ],
            "metadata": {
                "language": "sql",
                "azdata_cell_guid": "8e351035-b351-4b28-ac22-651fb197cccd",
                "tags": []
            },
            "outputs": [],
            "execution_count": null
        },
        {
            "cell_type": "code",
            "source": [
                "-- 使用判斷式解決 NaN 或型別不匹配問題 --\n",
                "SELECT [ID], [CompanyName], CASE WHEN [TaxID] = 'NaN' THEN null ELSE ROUND([TaxID], 0) END\n",
                "FROM [dbo].[Companies];"
            ],
            "metadata": {
                "language": "sql",
                "azdata_cell_guid": "56f31c0b-b952-465f-99ab-fcc88be16bb5",
                "tags": []
            },
            "outputs": [],
            "execution_count": null
        },
        {
            "cell_type": "code",
            "source": [
                "-- 找出[公司]資料表裡，統一編號不正確的資料 --\n",
                "\n",
                "/*\n",
                " 使用 ISNUMERIC 函式判斷是否為數值\n",
                " https://docs.microsoft.com/zh-tw/sql/t-sql/functions/isnumeric-transact-sql?view=sql-server-ver15\n",
                "*/\n",
                "SELECT [ID], [CompanyName], [TaxID]\n",
                "FROM [dbo].[Companies]\n",
                "WHERE ISNUMERIC([TaxID]) <> 1;"
            ],
            "metadata": {
                "language": "sql",
                "azdata_cell_guid": "3eda4b7f-0ea8-45a0-b9bf-7abbb8390a57"
            },
            "outputs": [],
            "execution_count": null
        },
        {
            "cell_type": "code",
            "source": [
                "-- 作業練習2 --\n",
                "DECLARE @d DECIMAL(20,2) = 123456789012.99\n",
                "/*\n",
                " 使用運算子\n",
                " https://www.w3schools.com/sql/sql_operators.asp\n",
                " */\n",
                "SELECT @d \n",
                "WHERE @d > 99999999 OR @d < 10000000; "
            ],
            "metadata": {
                "language": "sql",
                "azdata_cell_guid": "717d6002-e3d4-4377-a808-6682d4cd965e"
            },
            "outputs": [],
            "execution_count": null
        }
    ]
}