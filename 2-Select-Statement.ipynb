{
    "metadata": {
        "kernelspec": {
            "name": "SQL",
            "display_name": "SQL",
            "language": "sql"
        },
        "language_info": {
            "name": "sql",
            "version": ""
        }
    },
    "nbformat_minor": 2,
    "nbformat": 4,
    "cells": [
        {
            "cell_type": "markdown",
            "source": [
                "學習參考：\n",
                "\n",
                "- W3School： [https://www.w3schools.com/sql/sql\\_select.asp](https://www.w3schools.com/sql/sql_select.asp)"
            ],
            "metadata": {
                "azdata_cell_guid": "83c361ca-378f-4cd7-8574-007ff1871fd6"
            },
            "attachments": {}
        },
        {
            "cell_type": "code",
            "source": [
                ""
            ],
            "metadata": {
                "azdata_cell_guid": "cdc4e8d6-e32e-4501-8046-a7d00271ff6b",
                "language": "sql"
            },
            "outputs": [],
            "execution_count": null
        }
    ]
}