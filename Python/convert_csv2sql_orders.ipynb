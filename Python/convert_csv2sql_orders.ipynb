{
  "nbformat": 4,
  "nbformat_minor": 0,
  "metadata": {
    "colab": {
      "name": "convert_csv2sql_orders.ipynb",
      "provenance": [],
      "collapsed_sections": []
    },
    "kernelspec": {
      "name": "python3",
      "display_name": "Python 3"
    },
    "language_info": {
      "name": "python"
    }
  },
  "cells": [
    {
      "cell_type": "markdown",
      "source": [
        ""
      ],
      "metadata": {
        "id": "dW_KSENuWqT6"
      }
    },
    {
      "cell_type": "code",
      "execution_count": 1,
      "metadata": {
        "id": "w4LGFcKAEzN7"
      },
      "outputs": [],
      "source": [
        "# 匯入 pandas 模組\n",
        "import pandas as pd\n",
        "# 匯入 datetime 模組\n",
        "from datetime import datetime"
      ]
    },
    {
      "cell_type": "code",
      "source": [
        "# 取得目前時間\n",
        "currentTime = datetime.today().strftime('%Y-%m-%d %H:%M:%S')\n",
        "\n",
        "# 讀取 CSV 格式資料\n",
        "csvData = pd.read_csv(r'orders.csv', encoding=\"utf-8\")\n",
        "df = pd.DataFrame(csvData)"
      ],
      "metadata": {
        "id": "SSRyuzHIJWJe"
      },
      "execution_count": 13,
      "outputs": []
    },
    {
      "cell_type": "code",
      "source": [
        "sqlData = []\n",
        "#訂單主表\n",
        "for row in df.itertuples():\n",
        "  #可以先使用 print 檢視輸出內容\n",
        "  #print(\"INSERT INTO [dbo].[OrderStats] ([CustomerID], [ParentID], [NumItemsSold], [TotalSales], [TaxTotal], [ShippingTotal], [NetTotal], [ReturningCustomer], [Created], [Status]) VALUES ('{CustomerID}', '{ParentID}', '{NumItemsSold}', '{TotalSales}', '{TaxTotal}', '{ShippingTotal}', '{NetTotal}', '{ReturningCustomer}', '{Created}', '{Status}');\\n\".format(CustomerID=row.MemberID, ParentID='0', NumItemsSold='1', TotalSales='0', TaxTotal='0', ShippingTotal='0', NetTotal='0', ReturningCustomer='0', Created=row.OrderDate, Status='1'))\n",
        "  sqlData.append(\"INSERT INTO [dbo].[OrderStats] ([CustomerID], [ParentID], [NumItemsSold], [TotalSales], [TaxTotal], [ShippingTotal], [NetTotal], [ReturningCustomer], [Created], [Status]) VALUES ('{CustomerID}', '{ParentID}', '{NumItemsSold}', '{TotalSales}', '{TaxTotal}', '{ShippingTotal}', '{NetTotal}', '{ReturningCustomer}', '{Created}', '{Status}');\\n\".format(CustomerID=row.MemberID, ParentID='0', NumItemsSold='1', TotalSales='0', TaxTotal='0', ShippingTotal='0', NetTotal='0', ReturningCustomer='0', Created=row.OrderDate, Status='1'))\n",
        "  "
      ],
      "metadata": {
        "id": "f_bbIqatFx_b"
      },
      "execution_count": 7,
      "outputs": []
    },
    {
      "cell_type": "code",
      "source": [
        "# 開啟檔案\n",
        "fp = open(\"Insert-OrderStats.sql\", \"a\")\n",
        "#寫入檔案\n",
        "fp.writelines(sqlData)\n",
        " \n",
        "# 關閉檔案\n",
        "fp.close()"
      ],
      "metadata": {
        "id": "gjLrvezNYZjN"
      },
      "execution_count": 8,
      "outputs": []
    },
    {
      "cell_type": "code",
      "source": [
        "sqlData = []\n",
        "#訂單商品項目\n",
        "i = 1\n",
        "for row in df.itertuples():\n",
        "  i+=1\n",
        "  #可以先使用 print 檢視輸出內容\n",
        "  #print(\"INSERT INTO [dbo].[OrderProduct] ([OrderID], [ProductID], [VariationID], [CustomerID], [ProductQuantity], [ProductNetRevenue], [ProductGrossRevenue], [CouponAmount], [TaxAmount], [ShippingAmount], [ShippingTaxAmount], [Created]) VALUES ('{OrderID}', '{ProductID}', '{VariationID}', '{CustomerID}', '{ProductQuantity}', '{ProductNetRevenue}', '{ProductGrossRevenue}', '{CouponAmount}', '{TaxAmount}', '{ShippingAmount}', '{ShippingTaxAmount}', '{Created}');\\n\".format(OrderID=i, ProductID=row.ProductID, VariationID='0', CustomerID=row.MemberID, ProductQuantity=row.Quantity, ProductNetRevenue='0', ProductGrossRevenue='0', CouponAmount='0', TaxAmount='0', ShippingAmount='0', ShippingTaxAmount='0', Created=row.OrderDate))\n",
        "  sqlData.append(\"INSERT INTO [dbo].[OrderProduct] ([OrderID], [ProductID], [VariationID], [CustomerID], [ProductQuantity], [ProductNetRevenue], [ProductGrossRevenue], [CouponAmount], [TaxAmount], [ShippingAmount], [ShippingTaxAmount], [Created]) VALUES ('{OrderID}', '{ProductID}', '{VariationID}', '{CustomerID}', '{ProductQuantity}', '{ProductNetRevenue}', '{ProductGrossRevenue}', '{CouponAmount}', '{TaxAmount}', '{ShippingAmount}', '{ShippingTaxAmount}', '{Created}');\\n\".format(OrderID=i, ProductID=row.ProductID, VariationID='0', CustomerID=row.MemberID, ProductQuantity=row.Quantity, ProductNetRevenue='0', ProductGrossRevenue='0', CouponAmount='0', TaxAmount='0', ShippingAmount='0', ShippingTaxAmount='0', Created=row.OrderDate))"
      ],
      "metadata": {
        "language": "python",
        "azdata_cell_guid": "d540a37a-3840-4eb7-81be-f41f3157e991",
        "id": "3NUqUx2EWklW"
      },
      "outputs": [],
      "execution_count": 15
    },
    {
      "cell_type": "code",
      "source": [
        "# 開啟檔案\n",
        "fp = open(\"Insert-OrderProduct.sql\", \"a\")\n",
        "#寫入檔案\n",
        "fp.writelines(sqlData)\n",
        "# 關閉檔案\n",
        "fp.close()"
      ],
      "metadata": {
        "id": "regaSfzFgAuw"
      },
      "execution_count": 16,
      "outputs": []
    },
    {
      "cell_type": "markdown",
      "source": [
        "# 未完成事項\n",
        "\n",
        "\n",
        "\n",
        "1.   商品的單價在 [dbo].[ProductMeta] 裡 MetaKey = Price，需從該表取得單價，再乘以銷售數量，更新到 [dbo].[OrderProduct] 的 [ProductNetRevenue] 銷售淨額欄位中\n",
        "2.   每件商品的成本不同，因為無原始數據，因此為 ProductMeta 資料表，再新建一個 MetaKey = Cost ，MetaValue = 採 0.4~0.7 隨機的方式賦予\n",
        "3.   根據 2 ，再計算 [OrderProduct] 表中的 [ProductGrossRevenue] 商品毛利\n",
        "4. 依營業稅 5%的計算方式，計算商品稅額，寫入 [OrderProduct] 表中的 [TaxAmount] 欄位中\n",
        "5. 依據 [OrderProduct] 內的資訊，寫入 [OrderStats] 表中的 [TotalSales], [TaxTotal], [NetTotal] 欄位\n",
        "\n",
        "\n"
      ],
      "metadata": {
        "id": "Zr7oX4uBgeyo"
      }
    }
  ]
}