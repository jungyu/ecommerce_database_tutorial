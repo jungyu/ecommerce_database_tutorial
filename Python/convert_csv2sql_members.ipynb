{
  "nbformat": 4,
  "nbformat_minor": 0,
  "metadata": {
    "colab": {
      "name": "convert_csv2sql_members.ipynb",
      "provenance": [],
      "collapsed_sections": []
    },
    "kernelspec": {
      "name": "python3",
      "display_name": "Python 3"
    },
    "language_info": {
      "name": "python"
    }
  },
  "cells": [
    {
      "cell_type": "code",
      "execution_count": 18,
      "metadata": {
        "id": "w4LGFcKAEzN7"
      },
      "outputs": [],
      "source": [
        "# 匯入 pandas 模組\n",
        "import pandas as pd\n",
        "# 匯入 datetime 模組\n",
        "from datetime import datetime"
      ]
    },
    {
      "cell_type": "code",
      "source": [
        "# 取得目前時間\n",
        "currentTime = datetime.today().strftime('%Y-%m-%d %H:%M:%S')\n",
        "\n",
        "# 讀取 CSV 格式資料\n",
        "csvData = pd.read_csv(r'member.csv', encoding=\"utf-8\")\n",
        "df = pd.DataFrame(csvData)"
      ],
      "metadata": {
        "id": "SSRyuzHIJWJe"
      },
      "execution_count": 19,
      "outputs": []
    },
    {
      "cell_type": "code",
      "source": [
        "sqlData = []\n",
        "for row in df.itertuples():\n",
        "  login = row.Email.replace('@gmail.com','')\n",
        "  #可以先使用 print 檢視輸出內容\n",
        "  sqlData.append(\"INSERT INTO [dbo].[members] ([Login],[Pass],[Nicename],[DisplayName],[Email],[Url],[Created],[Modified],[ActivationKey],[IsStaff],[Status]) VALUES ('{Login}','{Pass}','{Nicename}','{DisplayName}','{Email}','{Url}','{Created}','{Modified}','{ActivationKey}','{IsStaff}','{Status}');\\n\".format(Login=login,Pass='xxxxxx',Nicename=row.ChineseName,DisplayName=row.EnglishName,Email=row.Email,Url='',Created=currentTime,Modified=currentTime,ActivationKey=row.MemberID,IsStaff='0',Status='1'))\n"
      ],
      "metadata": {
        "id": "f_bbIqatFx_b"
      },
      "execution_count": 20,
      "outputs": []
    },
    {
      "cell_type": "code",
      "source": [
        "# 開啟檔案\n",
        "fp = open(\"Insert-Members.sql\", \"a\")\n",
        "#寫入檔案\n",
        "fp.writelines(sqlData)\n",
        " \n",
        "# 關閉檔案\n",
        "fp.close()"
      ],
      "metadata": {
        "id": "gjLrvezNYZjN"
      },
      "execution_count": 21,
      "outputs": []
    },
    {
      "cell_type": "code",
      "source": [
        "sqlData = []\n",
        "#輸出英文姓名English\n",
        "for row in df.itertuples():\n",
        "  #可以先使用 print 檢視輸出內容\n",
        "  sqlData.append(\"INSERT INTO [dbo].[MemberMeta] ([MemberID], [MetaKey], [MetaValue]) SELECT [ID], '{MetaKey}', '{MetaValue}' FROM [Members] WHERE [Email] = '{Email}';\\n\".format(MetaKey='EnglishName', MetaValue=row.EnglishName, Email=row.Email))\n",
        "  "
      ],
      "metadata": {
        "language": "python",
        "azdata_cell_guid": "d540a37a-3840-4eb7-81be-f41f3157e991",
        "id": "3NUqUx2EWklW"
      },
      "outputs": [],
      "execution_count": 24
    },
    {
      "cell_type": "code",
      "source": [
        "# 開啟檔案\n",
        "fp = open(\"Insert-MemberMeta.sql\", \"a\")\n",
        "#寫入檔案\n",
        "fp.writelines(sqlData)\n",
        "# 關閉檔案\n",
        "fp.close()"
      ],
      "metadata": {
        "id": "regaSfzFgAuw"
      },
      "execution_count": 25,
      "outputs": []
    },
    {
      "cell_type": "markdown",
      "source": [
        "# 練習\n",
        "還有以下欄位需要寫入到 membermeta\n",
        "\n",
        "\n",
        "*   性別 Gender\n",
        "*   生日 Birth\n",
        "*   學歷 Education\n",
        "*   婚姻狀態 MaritalStatus\n",
        "*   會員起始日 StartDate\n",
        "*   年齡 Age\n",
        "*   年齡級距 AgeRange\n",
        "\n",
        "\n"
      ],
      "metadata": {
        "id": "Zr7oX4uBgeyo"
      }
    },
    {
      "cell_type": "code",
      "source": [
        "sqlData = []\n",
        "#輸出性別 Gender\n",
        "for row in df.itertuples():\n",
        "  #可以先使用 print 檢視輸出內容\n",
        "  sqlData.append(\"INSERT INTO [dbo].[MemberMeta] ([MemberID], [MetaKey], [MetaValue]) SELECT [ID], '{MetaKey}', '{MetaValue}' FROM [Members] WHERE [Email] = '{Email}';\\n\".format(MetaKey='Gender', MetaValue=row.Gender, Email=row.Email))\n",
        "  \n",
        "# 開啟檔案\n",
        "fp = open(\"Insert-MemberMeta.sql\", \"a\")\n",
        "#寫入檔案\n",
        "fp.writelines(sqlData)\n",
        "# 關閉檔案\n",
        "fp.close()"
      ],
      "metadata": {
        "id": "DGBlhJOtgb0c"
      },
      "execution_count": 28,
      "outputs": []
    }
  ]
}