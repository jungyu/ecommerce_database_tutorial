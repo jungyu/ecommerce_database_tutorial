{
  "metadata": {
    "kernelspec": {
      "name": "python3",
      "display_name": "Python 3 (ipykernel)",
      "language": "python"
    },
    "language_info": {
      "name": "python",
      "version": "3.9.12",
      "mimetype": "text/x-python",
      "codemirror_mode": {
        "name": "ipython",
        "version": 3
      },
      "pygments_lexer": "ipython3",
      "nbconvert_exporter": "python",
      "file_extension": ".py"
    },
    "colab": {
      "name": "Convert_json2sql_Products.ipynb",
      "provenance": [],
      "collapsed_sections": []
    }
  },
  "nbformat_minor": 0,
  "nbformat": 4,
  "cells": [
    {
      "cell_type": "code",
      "source": [
        "# 匯入 json 模組\n",
        "import json\n",
        "# 匯入 datetime 模組\n",
        "from datetime import datetime"
      ],
      "metadata": {
        "azdata_cell_guid": "3b967d0b-40ab-437c-8e46-8f96573233e2",
        "language": "python",
        "tags": [],
        "id": "yPRCK76hWklQ"
      },
      "outputs": [],
      "execution_count": 1
    },
    {
      "cell_type": "code",
      "source": [
        "# 取得目前時間\n",
        "current_time = datetime.today().strftime('%Y-%m-%d %H:%M:%S')\n",
        "\n",
        "# 讀取 JSON 格式資料，輸出商品主表的 insert into 指令\n",
        "with open(r'Shopee_NaNa.json', encoding=\"utf-8\") as json_file:\n",
        "    data = json.load(json_file)\n",
        "    for row in data:\n",
        "        print(\"INSERT INTO [shop].[dbo].[Products] ([ProductAuthor], [ProductContent], [ProductTitle], [ProductExcerpt], [ProductStatus], [ProductPassword], [ProductName], [Ping], [PingStatus], [Follow], [FollowStatus],  [Created], [Modified], [ProductContentFiltered], [ProductParent], [Guid], [MenuOrder], [ProductType], [ProductMimeType], [CommentStatus], [CommentCount]) VALUES ('1', '{ProductContent}', '{ProductTitle}', '', '1', '', '', '', '', '', '', '{Created}', '{Modified}', '', '', '', '0', 'Physical', '', '', '');\\n\".format(ProductContent=row['detail'], ProductTitle=row['title'], Created=current_time, Modified=current_time))"
      ],
      "metadata": {
        "azdata_cell_guid": "d0413bc6-ad4d-4651-80d6-a221a21640a9",
        "language": "python",
        "id": "enBII_WGWklU"
      },
      "outputs": [],
      "execution_count": null
    },
    {
      "cell_type": "code",
      "source": [
        "# 讀取 JSON 格式資料，輸出商品詮釋資料的 insert select 指令\n",
        "with open(r'Shopee_NaNa.json', encoding=\"utf-8\") as json_file:\n",
        "    data = json.load(json_file)\n",
        "    for row in data:\n",
        "        print(\"INSERT INTO [ProductMeta] ([ProductID], [MetaKey], [MetaValue]) SELECT [ID], '{MetaKey}', '{MetaValue}' FROM [Products] WHERE [ProductTitle] = '{ProductTitle}';\\n\".format(MetaKey='link', MetaValue=row['link'], ProductTitle=row['title']))"
      ],
      "metadata": {
        "language": "python",
        "azdata_cell_guid": "d540a37a-3840-4eb7-81be-f41f3157e991",
        "id": "3NUqUx2EWklW"
      },
      "outputs": [],
      "execution_count": null
    },
    {
      "cell_type": "markdown",
      "source": [
        "練習1：\n",
        "\n",
        "- 讀取 JSON 檔，將商品價格 price 寫到 \\[ProductMeta\\] 資料表內\n",
        "- 讀取 JSON 檔，將商品庫存 stock 寫到 \\[ProductMeta\\] 資料表內"
      ],
      "metadata": {
        "language": "python",
        "azdata_cell_guid": "cdb197d1-a47e-4990-a875-178b1173dd4a",
        "id": "ZEiDsY6eWklY"
      }
    },
    {
      "cell_type": "code",
      "source": [
        "# 讀取 JSON 格式資料，將指定欄位(陣列值)轉為以逗號分隔(,)的字串\n",
        "with open(r'Shopee_NaNa.json', encoding=\"utf-8\") as json_file:\n",
        "    data = json.load(json_file)\n",
        "    for row in data:\n",
        "        tags = \",\".join(str(x) for x in row['tags'])\n",
        "        print(tags)"
      ],
      "metadata": {
        "language": "python",
        "azdata_cell_guid": "cb36923d-e41f-4421-ba13-f3481f05a347",
        "id": "NBw0n3CCWklY"
      },
      "outputs": [],
      "execution_count": null
    },
    {
      "cell_type": "markdown",
      "source": [
        "練習2：\n",
        "\n",
        "- 讀取 JSON 檔，將商品圖片 images 寫到 \\[ProductMeta\\] 資料表內\n",
        "- 讀取 JSON 檔，將商品標籤 tags 寫到 \\[ProductMeta\\] 資料表內"
      ],
      "metadata": {
        "language": "python",
        "azdata_cell_guid": "800808fc-5b70-4c91-8c86-ef9066496340",
        "id": "n-x8Tck7WklZ"
      }
    }
  ]
}