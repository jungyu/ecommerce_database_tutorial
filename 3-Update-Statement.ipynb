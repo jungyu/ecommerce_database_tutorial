{
    "metadata": {
        "kernelspec": {
            "name": "SQL",
            "display_name": "SQL",
            "language": "sql"
        },
        "language_info": {
            "name": "sql",
            "version": ""
        }
    },
    "nbformat_minor": 2,
    "nbformat": 4,
    "cells": [
        {
            "cell_type": "markdown",
            "source": [
                "**學習參考：**\n",
                "\n",
                "- Microsoft SQL 文件： [https://docs.microsoft.com/zh-tw/sql/?view=sql-server-ver15](https://docs.microsoft.com/zh-tw/sql/?view=sql-server-ver15)\n",
                "- W3School： [https://www.w3schools.com/sql/sql\\_select.asp](https://www.w3schools.com/sql/sql_select.asp)\n",
                "- SQL Tutorial： [https://sqltutorial.org/](https://sqltutorial.org/)"
            ],
            "metadata": {
                "azdata_cell_guid": "c0e2e8a2-4be9-49bb-9403-87bd0bb12ecd"
            },
            "attachments": {}
        },
        {
            "cell_type": "code",
            "source": [
                "-- 切換使用 [shop] 資料庫 --\n",
                "USE [shop];"
            ],
            "metadata": {
                "azdata_cell_guid": "2a64351e-d401-4109-9bbf-295658dd8403",
                "language": "sql",
                "tags": []
            },
            "outputs": [],
            "execution_count": null
        },
        {
            "cell_type": "markdown",
            "source": [
                "### **UPDATE 語法**\n",
                "\n",
                "<span class=\"sqlkeywordcolor\" style=\"box-sizing: inherit; color: mediumblue;\">UPDATE</span> _table\\_name_  \n",
                "<span class=\"sqlkeywordcolor\" style=\"box-sizing: inherit; color: mediumblue;\">SET</span> _column1_ = _value1_, _column2_ = _value2_, ...  \n",
                "<span class=\"sqlkeywordcolor\" style=\"box-sizing: inherit; color: mediumblue;\">WHERE</span> _condition_;"
            ],
            "metadata": {
                "language": "sql",
                "azdata_cell_guid": "9a4684df-0116-4e0c-b1af-d6d0691ff954"
            },
            "attachments": {}
        },
        {
            "cell_type": "code",
            "source": [
                "-- 更新 UPDATE 語法參考： https://docs.microsoft.com/zh-tw/sql/t-sql/queries/update-transact-sql?view=sql-server-ver15\n",
                "-- GETDATE 函式語法參考： https://docs.microsoft.com/zh-tw/sql/t-sql/functions/getdate-transact-sql?view=sql-server-ver15\n",
                "\n",
                "-- 更新[公司]資料表中，指定 ID 之公司介紹[CompanyDesc]\n",
                "UPDATE [dbo].[Companies]\n",
                "SET [CompanyDesc] = '無縫整合：自動化橋接電商平台；情報分享：透過爬蟲機器人建立資料大數據；人機互動：持續進化人機互動技術',\n",
                "    [Modified] = GETDATE()\n",
                "WHERE [ID] = 10;\n",
                "\n",
                "-- 小測驗：更新 ID = 14 之公司描述[CompanyDesc] --\n",
                "\n",
                "-- 小測驗：更新 ID = 8 公司類別[CompanyType] 為網路商舖 shop --"
            ],
            "metadata": {
                "language": "sql",
                "azdata_cell_guid": "0a95db1c-f934-4804-abe4-28b10b662e46"
            },
            "outputs": [],
            "execution_count": null
        },
        {
            "cell_type": "code",
            "source": [
                "-- 更新[公司]資料表中，沒有統一編號[TaxID] 之公司狀態[Status] 改為 2 --\n",
                "UPDATE [dbo].[Companies]\n",
                "SET [Status] = '2',\n",
                "    [Modified] = GETDATE()\n",
                "WHERE [TaxID] = 'NaN';"
            ],
            "metadata": {
                "language": "sql",
                "azdata_cell_guid": "60eed905-c95e-4f1f-92f8-ce7d9cc3323d"
            },
            "outputs": [],
            "execution_count": null
        },
        {
            "cell_type": "code",
            "source": [
                "-- 更新[公司]資料表中，指定多筆 ID 之公司類別[CompanyType] 為代理商 agent\n",
                "\n",
                "-- Notice: 更新多筆資料前，應先使用 SELECT 確認更新範圍是正確的\n",
                "SELECT *\n",
                "FROM [dbo].[Companies]\n",
                "WHERE [ID] IN (5,6,7,12);"
            ],
            "metadata": {
                "azdata_cell_guid": "73518ab9-ce01-4395-b715-6e0e8a1f8715",
                "language": "sql",
                "tags": []
            },
            "outputs": [],
            "execution_count": null
        },
        {
            "cell_type": "code",
            "source": [
                "-- 更新[公司]資料表中，指定多筆 ID 之公司類別[CompanyType] 為代理商 agent\n",
                "UPDATE [dbo].[Companies]\n",
                "SET [CompanyType] = 'agent',\n",
                "    [Modified] = GETDATE()\n",
                "WHERE [ID] IN (5,6,7,12);\n",
                "\n",
                "-- 小測驗：更新 ID 為 2,9,11,15 之公司類別[CompanyType] 為製造 manufacture -- "
            ],
            "metadata": {
                "language": "sql",
                "azdata_cell_guid": "a4ede51d-619a-4921-b837-29739e0d569a"
            },
            "outputs": [],
            "execution_count": null
        },
        {
            "cell_type": "markdown",
            "source": [
                "**<mark>注意：具安全性的更新一定會使用 WHERE 以限定範圍</mark>**"
            ],
            "metadata": {
                "language": "sql",
                "azdata_cell_guid": "8d0e3696-5307-4c01-9200-cca6937e7780"
            },
            "attachments": {}
        },
        {
            "cell_type": "code",
            "source": [
                "-- 作業練習：找到電話[Phone] = NaN 及電子郵件[Email]的公司，透過網路搜尋的技巧找到其正確的資料，使用 Update 語法更新資料 -- "
            ],
            "metadata": {
                "language": "sql",
                "azdata_cell_guid": "f4b7f81d-b44f-4b22-a107-d17125e7f0b4"
            },
            "outputs": [],
            "execution_count": null
        }
    ]
}