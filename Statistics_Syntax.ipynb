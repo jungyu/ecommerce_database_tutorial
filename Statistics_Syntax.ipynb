{
    "metadata": {
        "kernelspec": {
            "name": "SQL",
            "display_name": "SQL",
            "language": "sql"
        },
        "language_info": {
            "name": "sql",
            "version": ""
        }
    },
    "nbformat_minor": 2,
    "nbformat": 4,
    "cells": [
        {
            "cell_type": "markdown",
            "source": [
                "\\# 統計需要的查詢範例：\n",
                "\n",
                "1. 年(季、月)度銷售金額統計(含稅)\n",
                "2. 年(季、月)度訂單數量統計\n",
                "3. 年(季、月)度熱賣商品排名\n",
                "4. 年(季、月)度高獲利商品排名\n",
                "5. 年(季、月)度客戶購買排名\n",
                "\n",
                "\\# 待完成\n",
                "\n",
                "- 探索客戶偏好的商品、時間周期、消費金額範圍\n",
                "- 被退貨次數最多的商品\n",
                "- 退貨次數最多的客戶排名\n",
                "- 最會利用低運費的客戶排名\n",
                "- 使用率最高的折價券排名\n",
                "- 最會利用折價券的客戶排名\n",
                "- 使用折價券致交易損失的訂單\n",
                "- 年(季、月)度熱賣分類(標籤)排名\n",
                "- 查詢分店的指定商品庫存狀況"
            ],
            "metadata": {
                "azdata_cell_guid": "10dd80f4-0a02-4311-a87c-d6eafcea028f"
            },
            "attachments": {}
        }
    ]
}