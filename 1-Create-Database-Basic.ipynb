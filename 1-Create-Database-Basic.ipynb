{
    "metadata": {
        "kernelspec": {
            "name": "SQL",
            "display_name": "SQL",
            "language": "sql"
        },
        "language_info": {
            "name": "sql",
            "version": ""
        }
    },
    "nbformat_minor": 2,
    "nbformat": 4,
    "cells": [
        {
            "cell_type": "markdown",
            "source": [
                "**資料庫**：\n",
                "\n",
                "1. 自行在本機安裝 SQL Server 2019 Express [https://www.microsoft.com/zh-TW/download/details.aspx?id=101064](https://www.microsoft.com/zh-TW/download/details.aspx?id=101064)\n",
                "2. 免安裝線上練習資源： [https://sqliteonline.com/](https://sqliteonline.com/)\n",
                "3. Azure 雲端 SQL Server [https://azure.microsoft.com/zh-tw/free/sql-on-azure/](https://azure.microsoft.com/zh-tw/free/sql-on-azure/)\n",
                "4. Google Cloud SQL Server [https://cloud.google.com/sql-server](https://cloud.google.com/sql-server)"
            ],
            "metadata": {
                "azdata_cell_guid": "c9aff41e-9bee-4a57-af97-f0b7fc94207b"
            },
            "attachments": {}
        },
        {
            "cell_type": "markdown",
            "source": [
                "**問題1**：為什麼要使用 Chinese\\_Taiwan\\_Stroke\\_CI\\_AS 定序與 Unicode 支援\n",
                "\n",
                "<span class=\"s1\" style=\"color: rgb(0, 0, 0);\">參考：</span>[https://docs.microsoft.com/zh-tw/sql/relational-databases/collations/collation-and-unicode-support?view=sql-server-ver15](https://docs.microsoft.com/zh-tw/sql/relational-databases/collations/collation-and-unicode-support?view=sql-server-ver15)\n",
                "\n",
                "Chinese-Taiwan-Stroke、排序不區分大小寫、區分腔調\n",
                "\n",
                "<span class=\"s2\" style=\"font-variant-numeric: normal; font-variant-east-asian: normal; font-stretch: normal; line-height: normal; font-family: &quot;PingFang TC&quot;;\">同時在使用</span>  NCHAR<span class=\"s2\" style=\"font-variant-numeric: normal; font-variant-east-asian: normal; font-stretch: normal; line-height: normal; font-family: &quot;PingFang TC&quot;;\">、</span>NVARCHAR <span class=\"s2\" style=\"font-variant-numeric: normal; font-variant-east-asian: normal; font-stretch: normal; line-height: normal; font-family: &quot;PingFang TC&quot;;\">和</span> NTEXT <span class=\"s2\" style=\"font-variant-numeric: normal; font-variant-east-asian: normal; font-stretch: normal; line-height: normal; font-family: &quot;PingFang TC&quot;;\">資料類型時能支援</span>  unicode <span class=\"s2\" style=\"font-variant-numeric: normal; font-variant-east-asian: normal; font-stretch: normal; line-height: normal; font-family: &quot;PingFang TC&quot;;\">及</span> emoji"
            ],
            "metadata": {
                "azdata_cell_guid": "e773bff0-308f-44d4-af26-37b59b68c571"
            },
            "attachments": {}
        },
        {
            "cell_type": "code",
            "source": [
                "-- Warnng:建立資料庫 -- \n",
                "CREATE DATABASE [shop]\n",
                "    COLLATE Chinese_Taiwan_Stroke_CI_AS;  \n",
                "GO"
            ],
            "metadata": {
                "language": "sql",
                "azdata_cell_guid": "050359aa-32d6-470d-84d5-c9e7f4f0395e",
                "tags": []
            },
            "outputs": [],
            "execution_count": null
        },
        {
            "cell_type": "code",
            "source": [
                "-- 切換使用資料庫 --\n",
                "USE [shop];\n",
                "GO"
            ],
            "metadata": {
                "language": "sql",
                "azdata_cell_guid": "4784bbdc-2ec5-4e53-9845-11a023caeda6"
            },
            "outputs": [],
            "execution_count": null
        },
        {
            "cell_type": "markdown",
            "source": [
                "**公司類型**\n",
                "\n",
                "通路商 channel\n",
                "\n",
                "代理商 agent\n",
                "\n",
                "零售 retailer\n",
                "\n",
                "品牌 brand\n",
                "\n",
                "製造 manufacture\n",
                "\n",
                "網路商店 shop"
            ],
            "metadata": {
                "language": "sql",
                "azdata_cell_guid": "1fc11a9f-4d7d-479b-ae48-81f2a9f98e44"
            },
            "attachments": {}
        },
        {
            "cell_type": "code",
            "source": [
                "-- 因為公司主鍵 ID 同時繫結了商店，作為其外部索引鍵，所以要刪除公司資料表前，需先刪除此外部索引 -- \n",
                "ALTER TABLE [dbo].[Stores]\n",
                "DROP CONSTRAINT [fk_CompanyID];\n",
                "GO\n",
                "\n",
                "-- Warning：刪除[公司]資料表 --\n",
                "/*\n",
                "IF  EXISTS (SELECT * FROM sys.objects WHERE object_id = OBJECT_ID(N'[dbo].[Companies]') AND type in (N'U'))\n",
                "DROP TABLE [dbo].[Companies]\n",
                "GO\n",
                "*/\n",
                "DROP TABLE IF EXISTS [dbo].[Companies]\n",
                "GO\n",
                "\n",
                "-- 建立[公司]資料表 --\n",
                "CREATE TABLE [dbo].[Companies] (\n",
                "    [ID]                BIGINT         IDENTITY (1, 1) NOT NULL,\n",
                "    [CompanyName]       NVARCHAR (100) DEFAULT (('') collate Chinese_Taiwan_Stroke_CI_AS) NOT NULL,\n",
                "    [CompanySupervisor] BIGINT         DEFAULT (0) NOT NULL,\n",
                "    [CompanyDesc]       NVARCHAR (MAX) DEFAULT (('') collate Chinese_Taiwan_Stroke_CI_AS) NOT NULL,\n",
                "    [CompanyType]       VARCHAR (20)   DEFAULT ('retailer') NOT NULL,\n",
                "    [CountryCode]       VARCHAR (10)   DEFAULT ('') NOT NULL,\n",
                "    [TaxID]             VARCHAR (20)   DEFAULT ('') NOT NULL,\n",
                "    [Url]               VARCHAR (100)  DEFAULT ('') NOT NULL,\n",
                "    [Email]             VARCHAR (100)  DEFAULT ('') NOT NULL,\n",
                "    [Phone]             VARCHAR (100)  DEFAULT ('') NOT NULL,\n",
                "    [Created]         DATETIME       DEFAULT (getdate()) NOT NULL,\n",
                "    [Modified]   DATETIME       DEFAULT (getdate()) NOT NULL,\n",
                "    [Status]            TINYINT        DEFAULT ((0)) NOT NULL,\n",
                "    PRIMARY KEY CLUSTERED ([ID] ASC)\n",
                ");\n",
                "GO\n",
                "\n",
                "-- 建立索引 --\n",
                "CREATE NONCLUSTERED INDEX [ix_CompanyName]\n",
                "    ON [dbo].[Companies]([CompanyName] ASC);\n",
                "GO\n",
                "\n",
                "CREATE NONCLUSTERED INDEX [ix_CountryCode]\n",
                "    ON [dbo].[Companies]([CountryCode] ASC);\n",
                "GO\n",
                "\n",
                "CREATE NONCLUSTERED INDEX [ix_TaxID]\n",
                "    ON [dbo].[Companies]([TaxID] ASC);\n",
                "GO\n",
                "\n",
                "CREATE NONCLUSTERED INDEX [ix_Url]\n",
                "    ON [dbo].[Companies]([Url] ASC);\n",
                "GO\n",
                "\n",
                "CREATE NONCLUSTERED INDEX [ix_Email]\n",
                "    ON [dbo].[Companies]([Email] ASC);\n",
                "GO"
            ],
            "metadata": {
                "azdata_cell_guid": "555e2dd1-5e83-4e83-af32-46d85ef0a4a9",
                "language": "sql"
            },
            "outputs": [],
            "execution_count": null
        },
        {
            "cell_type": "code",
            "source": [
                "-- Warning：刪除[公司詮釋資料]資料表 --\n",
                "DROP TABLE IF EXISTS [dbo].[CompanyMeta]\n",
                "GO\n",
                "\n",
                "-- 建立[公司詮釋資料]資料表 --\n",
                "CREATE TABLE [dbo].[CompanyMeta] (\n",
                "    [CMetaID]   BIGINT         IDENTITY (1, 1) NOT NULL,\n",
                "    [CompanyID] BIGINT         NOT NULL,\n",
                "    [MetaKey]   VARCHAR (255)  DEFAULT ('') NULL,\n",
                "    [MetaValue] NVARCHAR (MAX) DEFAULT (('') collate Chinese_Taiwan_Stroke_CI_AS) NULL,\n",
                "    PRIMARY KEY CLUSTERED ([CMetaID] ASC)\n",
                ");\n",
                "GO\n",
                "\n",
                "-- 建立索引 --\n",
                "CREATE NONCLUSTERED INDEX [ix_CompanyID]\n",
                "    ON [dbo].[CompanyMeta]([CompanyID] ASC);\n",
                "GO\n",
                "\n",
                "CREATE NONCLUSTERED INDEX [ix_CompanyMetaKey]\n",
                "    ON [dbo].[CompanyMeta]([MetaKey] ASC);\n",
                "GO"
            ],
            "metadata": {
                "language": "sql",
                "azdata_cell_guid": "57de3962-9397-4f1c-9460-0d4f0900f8df"
            },
            "outputs": [],
            "execution_count": null
        },
        {
            "cell_type": "code",
            "source": [
                "-- Warning：刪除[商店]資料表 --\n",
                "DROP TABLE IF EXISTS [dbo].[Stores]\n",
                "GO\n",
                "\n",
                "-- 建立[商店]資料表 --\n",
                "CREATE TABLE [dbo].[Stores] (\n",
                "    [ID]              BIGINT         IDENTITY (1, 1) NOT NULL,\n",
                "    [CompanyID]       BIGINT         DEFAULT (0) NOT NULL,\n",
                "    [StoreName]       NVARCHAR (100) DEFAULT (('') collate Chinese_Taiwan_Stroke_CI_AS) NOT NULL,\n",
                "    [StoreSupervisor] BIGINT         DEFAULT (0) NOT NULL,\n",
                "    [StoreDesc]       NVARCHAR (MAX) DEFAULT (('') collate Chinese_Taiwan_Stroke_CI_AS) NOT NULL,\n",
                "    [Phone]           VARCHAR (100)  DEFAULT ('') NOT NULL,\n",
                "    [CountryCode]     VARCHAR (10)   DEFAULT ('') NOT NULL,\n",
                "    [ZipCode]         VARCHAR (10)   DEFAULT ('') NOT NULL,\n",
                "    [State]           NVARCHAR (30)  DEFAULT (('') collate Chinese_Taiwan_Stroke_CI_AS) NOT NULL,\n",
                "    [City]            NVARCHAR (40)  DEFAULT (('') collate Chinese_Taiwan_Stroke_CI_AS) NOT NULL,\n",
                "    [Address]         NVARCHAR (200) DEFAULT (('') collate Chinese_Taiwan_Stroke_CI_AS) NOT NULL,\n",
                "    [Created]       DATETIME       DEFAULT (getdate()) NOT NULL,\n",
                "    [Modified]   DATETIME       DEFAULT (getdate()) NOT NULL,\n",
                "    [Status]          TINYINT        DEFAULT ((0)) NOT NULL,\n",
                "    PRIMARY KEY CLUSTERED ([ID] ASC),\n",
                "    CONSTRAINT [fk_CompanyID] FOREIGN KEY ([CompanyID]) REFERENCES [dbo].[Companies] ([ID])\n",
                ");\n",
                "GO\n",
                "\n",
                "-- 建立索引 --\n",
                "CREATE NONCLUSTERED INDEX [ix_Phone]\n",
                "    ON [dbo].[Stores]([Phone] ASC);\n",
                "GO\n",
                "\n",
                "CREATE NONCLUSTERED INDEX [ix_CountryCode]\n",
                "    ON [dbo].[Stores]([CountryCode] ASC);\n",
                "GO\n",
                "\n",
                "CREATE NONCLUSTERED INDEX [ix_ZipCode]\n",
                "    ON [dbo].[Stores]([ZipCode] ASC);\n",
                "GO"
            ],
            "metadata": {
                "language": "sql",
                "azdata_cell_guid": "a477e4a4-0b55-4727-992e-45c1fb2ee051"
            },
            "outputs": [],
            "execution_count": null
        }
    ]
}