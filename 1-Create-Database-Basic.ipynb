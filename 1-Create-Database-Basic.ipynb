{
    "metadata": {
        "kernelspec": {
            "name": "SQL",
            "display_name": "SQL",
            "language": "sql"
        },
        "language_info": {
            "name": "sql",
            "version": ""
        }
    },
    "nbformat_minor": 2,
    "nbformat": 4,
    "cells": [
        {
            "cell_type": "markdown",
            "source": [
                "**問題1**：為什麼要使用 Chinese\\_Taiwan\\_Stroke\\_CI\\_AS 定序與 Unicode 支援\n",
                "\n",
                "<span class=\"s1\" style=\"color: rgb(0, 0, 0);\">參考：</span>[https://docs.microsoft.com/zh-tw/sql/relational-databases/collations/collation-and-unicode-support?view=sql-server-ver15](https://docs.microsoft.com/zh-tw/sql/relational-databases/collations/collation-and-unicode-support?view=sql-server-ver15)\n",
                "\n",
                "Chinese-Taiwan-Stroke、排序不區分大小寫、區分腔調\n",
                "\n",
                "<span class=\"s2\" style=\"font-variant-numeric: normal; font-variant-east-asian: normal; font-stretch: normal; line-height: normal; font-family: &quot;PingFang TC&quot;;\">同時在使用</span>  NCHAR<span class=\"s2\" style=\"font-variant-numeric: normal; font-variant-east-asian: normal; font-stretch: normal; line-height: normal; font-family: &quot;PingFang TC&quot;;\">、</span>NVARCHAR <span class=\"s2\" style=\"font-variant-numeric: normal; font-variant-east-asian: normal; font-stretch: normal; line-height: normal; font-family: &quot;PingFang TC&quot;;\">和</span> NTEXT <span class=\"s2\" style=\"font-variant-numeric: normal; font-variant-east-asian: normal; font-stretch: normal; line-height: normal; font-family: &quot;PingFang TC&quot;;\">資料類型時能支援</span>  unicode <span class=\"s2\" style=\"font-variant-numeric: normal; font-variant-east-asian: normal; font-stretch: normal; line-height: normal; font-family: &quot;PingFang TC&quot;;\">及</span> emoji"
            ],
            "metadata": {
                "azdata_cell_guid": "e773bff0-308f-44d4-af26-37b59b68c571"
            },
            "attachments": {}
        },
        {
            "cell_type": "code",
            "source": [
                "-- Warnng:建立資料庫 -- \n",
                "CREATE DATABASE [shop]\n",
                "    COLLATE Chinese_Taiwan_Stroke_CI_AS;  \n",
                "GO"
            ],
            "metadata": {
                "language": "sql",
                "azdata_cell_guid": "050359aa-32d6-470d-84d5-c9e7f4f0395e"
            },
            "outputs": [],
            "execution_count": null
        },
        {
            "cell_type": "code",
            "source": [
                "-- 切換使用資料庫 --\n",
                "USE [shop];\n",
                "GO"
            ],
            "metadata": {
                "language": "sql",
                "azdata_cell_guid": "4784bbdc-2ec5-4e53-9845-11a023caeda6"
            },
            "outputs": [],
            "execution_count": null
        },
        {
            "cell_type": "markdown",
            "source": [
                "**公司類型**\n",
                "\n",
                "通路商 channel\n",
                "\n",
                "代理商 agent\n",
                "\n",
                "零售 retailer\n",
                "\n",
                "品牌 brand\n",
                "\n",
                "製造 manufacture\n",
                "\n",
                "網路商店 shop"
            ],
            "metadata": {
                "language": "sql",
                "azdata_cell_guid": "1fc11a9f-4d7d-479b-ae48-81f2a9f98e44"
            },
            "attachments": {}
        },
        {
            "cell_type": "code",
            "source": [
                "-- 因為公司主鍵 ID 同時繫結了商店，作為其外部索引鍵，所以要刪除公司資料表前，需先刪除此外部索引 -- \n",
                "ALTER TABLE [dbo].[Stores]\n",
                "DROP CONSTRAINT [fk_CompanyID];\n",
                "GO\n",
                "\n",
                "-- Warning：刪除[公司]資料表 --\n",
                "/*\n",
                "IF  EXISTS (SELECT * FROM sys.objects WHERE object_id = OBJECT_ID(N'[dbo].[Companies]') AND type in (N'U'))\n",
                "DROP TABLE [dbo].[Companies]\n",
                "GO\n",
                "*/\n",
                "DROP TABLE IF EXISTS [dbo].[Companies]\n",
                "GO\n",
                "\n",
                "-- 建立[公司]資料表 --\n",
                "CREATE TABLE [dbo].[Companies] (\n",
                "    [ID]                BIGINT         IDENTITY (1, 1) NOT NULL,\n",
                "    [CompanyName]       NVARCHAR (100) DEFAULT (('') collate Chinese_Taiwan_Stroke_CI_AS) NOT NULL,\n",
                "    [CompanySupervisor] BIGINT         DEFAULT (0) NOT NULL,\n",
                "    [CompanyDesc]       NVARCHAR (MAX) DEFAULT (('') collate Chinese_Taiwan_Stroke_CI_AS) NOT NULL,\n",
                "    [CompanyType]       VARCHAR (20)   DEFAULT ('retailer') NOT NULL,\n",
                "    [CountryCode]       VARCHAR (10)   DEFAULT ('') NOT NULL,\n",
                "    [TaxID]             VARCHAR (20)   DEFAULT ('') NOT NULL,\n",
                "    [Url]               VARCHAR (100)  DEFAULT ('') NOT NULL,\n",
                "    [Email]             VARCHAR (100)  DEFAULT ('') NOT NULL,\n",
                "    [Phone]             VARCHAR (100)  DEFAULT ('') NOT NULL,\n",
                "    [Created]         DATETIME       DEFAULT (getdate()) NOT NULL,\n",
                "    [Modified]   DATETIME       DEFAULT (getdate()) NOT NULL,\n",
                "    [Status]            TINYINT        DEFAULT ((0)) NOT NULL,\n",
                "    PRIMARY KEY CLUSTERED ([ID] ASC)\n",
                ");\n",
                "GO\n",
                "\n",
                "-- 建立索引 --\n",
                "CREATE NONCLUSTERED INDEX [ix_CompanyName]\n",
                "    ON [dbo].[Companies]([CompanyName] ASC);\n",
                "GO\n",
                "\n",
                "CREATE NONCLUSTERED INDEX [ix_CountryCode]\n",
                "    ON [dbo].[Companies]([CountryCode] ASC);\n",
                "GO\n",
                "\n",
                "CREATE NONCLUSTERED INDEX [ix_TaxID]\n",
                "    ON [dbo].[Companies]([TaxID] ASC);\n",
                "GO\n",
                "\n",
                "CREATE NONCLUSTERED INDEX [ix_Url]\n",
                "    ON [dbo].[Companies]([Url] ASC);\n",
                "GO\n",
                "\n",
                "CREATE NONCLUSTERED INDEX [ix_Email]\n",
                "    ON [dbo].[Companies]([Email] ASC);\n",
                "GO"
            ],
            "metadata": {
                "azdata_cell_guid": "555e2dd1-5e83-4e83-af32-46d85ef0a4a9",
                "language": "sql"
            },
            "outputs": [],
            "execution_count": null
        },
        {
            "cell_type": "code",
            "source": [
                "INSERT INTO [shop].[dbo].[companies] ([CompanyName], [CompanySupervisor], [CompanyDesc], [CountryCode], [TaxID], [Url], [Email], [Phone], [Created], [Modified], [Status]) VALUES ('永昌文具用品有限公司', '1', '文具批發、事務機器、辦公用品、美術文具、Pantone色票、電腦耗材、辦公傢俱、體育用品', 'TWN', '70473585.0', 'https://www.pcstore.com.tw/yc8899/', 'p7205271@ms25.hinet.net', '02-2500-6979#9', '2022-04-27 08:00:00.000', '2022-04-27 08:00:00.000', '1');\n",
                "INSERT INTO [shop].[dbo].[companies] ([CompanyName], [CompanySupervisor], [CompanyDesc], [CountryCode], [TaxID], [Url], [Email], [Phone], [Created], [Modified], [Status]) VALUES ('樹德企業股份有限公司', '1', '樹德企業創立於 1969 年，為國內最大收納品牌與研發設計製造公司，旗下擁有『樹德SHUTER』及『livinbox 』二大品牌；2011年成立設計品網路平台『Orin原品』，與材料研發新事業體『點石綠能股份有限公司』', 'TWN', '12780635.0', 'https://www.shuter.com.tw/', 'nan', '0800-04-5588', '2022-04-27 08:00:00.000', '2022-04-27 08:00:00.000', '1');\n",
                "INSERT INTO [shop].[dbo].[companies] ([CompanyName], [CompanySupervisor], [CompanyDesc], [CountryCode], [TaxID], [Url], [Email], [Phone], [Created], [Modified], [Status]) VALUES ('聯強國際股份有限公司', '1', '聯強國際為台灣最大資通訊產品通路商，旗下代理近百個知名品牌與近萬個產品品項，為方便提供客戶最新、最詳盡的產品資訊以及即時服務，聯強國際於2000年成立「聯強e城市」網站，提供台灣地區資訊、通訊與消費性電子產品供應商、經銷商以及消費者完整的資訊交流與服務支援平台。', 'TWN', '23060541.0', 'http://www.synnex.com.tw', 'nan', 'nan', '2022-04-27 08:00:00.000', '2022-04-27 08:00:00.000', '1');\n",
                "INSERT INTO [shop].[dbo].[companies] ([CompanyName], [CompanySupervisor], [CompanyDesc], [CountryCode], [TaxID], [Url], [Email], [Phone], [Created], [Modified], [Status]) VALUES ('捷元股份有限公司', '1', '1988年成立，為臺灣主要資訊通訊通路代理商之一，於2015年加入亞太第一半導體零組件通路商-大聯大集團，2017年為了持續維持整體集團成長動能進行改組，現為鑫聯大控股(3709)旗下成員之一。代理海內外知名品牌60餘項。分設有三大發貨、服務運籌中心、八個營業據點、200家捷元通路服務聯盟據點，以及7000多家服務經銷商，配合著無遠弗屆、四通八達的物流網路，提供著快速、便利、親切的商品收送服務。', 'TWN', '23134543.0', 'https://www.genuine.com.tw/', 'nan', '02-2795-6677', '2022-04-27 08:00:00.000', '2022-04-27 08:00:00.000', '1');\n",
                "INSERT INTO [shop].[dbo].[companies] ([CompanyName], [CompanySupervisor], [CompanyDesc], [CountryCode], [TaxID], [Url], [Email], [Phone], [Created], [Modified], [Status]) VALUES ('正成貿易股份有限公司', '1', '專業影視廣播器材與消費性數位產品，多元化的影像產業經營與擴大銷售代理', 'TWN', '3128207.0', 'https://www.chengseng.com', 'service@chengseng.com', '+886-2-8511-1311', '2022-04-27 08:00:00.000', '2022-04-27 08:00:00.000', '1');\n",
                "INSERT INTO [shop].[dbo].[companies] ([CompanyName], [CompanySupervisor], [CompanyDesc], [CountryCode], [TaxID], [Url], [Email], [Phone], [Created], [Modified], [Status]) VALUES ('敦遠國際有限公司', '1', '從愛上露營到享受露營 喜歡徜徉在大自然中的氛圍 享受雲霧在眼前的變換 細細感受四季的遷移 看著孩子在大自然中探索 滿足又燦爛的笑容是無價 露營真的很幸福', 'TWN', '24830126.0', 'https://www.hotcamp.tw', 'service@hotcamp.tw', '(04) 2515-8669', '2022-04-27 08:00:00.000', '2022-04-27 00:34:57.987', '1');\n",
                "INSERT INTO [shop].[dbo].[companies] ([CompanyName], [CompanySupervisor], [CompanyDesc], [CountryCode], [TaxID], [Url], [Email], [Phone], [Created], [Modified], [Status]) VALUES ('霖寶貿易有限公司', '1', '總代理日本太成碳烤爐、日本DRETEC小家電、德國德蘭特玻璃與米納斯瓷器，堅持嚴選最高品質之產品，從以提供服務廣大消費者，亦保證販售產品之安全與品質兼具、絕對第一!', 'TWN', '28362762.0', 'http://www.dretec.com.tw', 'info@kosmart.com.tw', '02-2929-6300', '2022-04-27 08:00:00.000', '2022-04-27 00:34:57.987', '1');\n",
                "INSERT INTO [shop].[dbo].[companies] ([CompanyName], [CompanySupervisor], [CompanyDesc], [CountryCode], [TaxID], [Url], [Email], [Phone], [Created], [Modified], [Status]) VALUES ('NaNa正版專賣', '1', '本賣場只賣100%正版商品，價格最優惠，品質最優良，請放心選購。', 'TWN', 'nan', 'https://shopee.tw/hsu6666', 'nan', 'nan', '2022-04-27 08:00:00.000', '2022-04-27 00:34:57.987', '1');\n",
                "INSERT INTO [shop].[dbo].[companies] ([CompanyName], [CompanySupervisor], [CompanyDesc], [CountryCode], [TaxID], [Url], [Email], [Phone], [Created], [Modified], [Status]) VALUES ('田豆伯', '1', '「田豆伯」是由一對充滿愛心的夫妻創辦，當初以僅剩的一萬元即展開創業之路，我們當初創業的想法是基於對田豆的喜愛，每一次吃起田豆，總是一口接一口的欲罷不能！也想說在傳統口味中是否也能讓田豆多一點變化？多一點不同！因此在口味上我們努力創新，顛覆顧客對傳統蠶豆酥印象！100%香酥脆，讓人越吃越香越吃越涮嘴！品嚐一次後就讓人難忘，一嚐成主顧！', 'TWN', 'nan', 'https://www.tientoupa.com/', 'b0955227587@gmail.com', '0955227587、0979082997', '2022-04-27 08:00:00.000', '2022-04-27 00:34:57.987', '1');\n",
                "INSERT INTO [shop].[dbo].[companies] ([CompanyName], [CompanySupervisor], [CompanyDesc], [CountryCode], [TaxID], [Url], [Email], [Phone], [Created], [Modified], [Status]) VALUES ('禾晟國貿有限公司', '1', '自動化橋接電商平台、進出口貿易、會計、稅務、行政、物流等繁瑣流程，優化人工作業成本及減少錯誤，使資料流成為您的競爭優勢。', 'TWN', '90541750.0', 'https://www.makiot.com', 'aaron@makiot.com', 'nan', '2022-04-27 08:00:00.000', '2022-04-27 08:00:00.000', '1');\n",
                "INSERT INTO [shop].[dbo].[companies] ([CompanyName], [CompanySupervisor], [CompanyDesc], [CountryCode], [TaxID], [Url], [Email], [Phone], [Created], [Modified], [Status]) VALUES ('十一精品咖啡', '1', '專業精品咖啡', 'TWN', 'nan', 'https://www.facebook.com/potion11cafe/', 'nan', '04 2320 6626', '2022-04-27 08:00:00.000', '2022-04-27 08:00:00.000', '1');\n",
                "INSERT INTO [shop].[dbo].[companies] ([CompanyName], [CompanySupervisor], [CompanyDesc], [CountryCode], [TaxID], [Url], [Email], [Phone], [Created], [Modified], [Status]) VALUES ('易禾國際有限公司', '1', '目前是綠聯UGREEN與樂歌Loctek台灣總代理商 樂歌是A股上市人體工學第一股， 綠聯是APPLE深度合作夥伴， 兩間公司每年成長率都達50~100%， 在亞馬遜上都榮獲品牌獎， 綠聯入選亞馬遜跨境百強品牌', 'TWN', '53276836.0', 'https://www.water3f.com/', 'nan', '03-4851828', '2022-04-27 08:00:00.000', '2022-04-27 08:00:00.000', '1');\n",
                "INSERT INTO [shop].[dbo].[companies] ([CompanyName], [CompanySupervisor], [CompanyDesc], [CountryCode], [TaxID], [Url], [Email], [Phone], [Created], [Modified], [Status]) VALUES ('三井資訊股份有限公司', '1', 'nan', 'TWN', '23832174.0', 'https://www.sanjing3c.com.tw/', 'nan', '033333000', '2022-04-27 08:00:00.000', '2022-04-27 08:00:00.000', '1');\n",
                "INSERT INTO [shop].[dbo].[companies] ([CompanyName], [CompanySupervisor], [CompanyDesc], [CountryCode], [TaxID], [Url], [Email], [Phone], [Created], [Modified], [Status]) VALUES ('原價屋電腦股份有限公司', '1', 'nan', 'TWN', '27749036.0', 'https://www.coolpc.com.tw/', 'nan', '02-23972669', '2022-04-27 08:00:00.000', '2022-04-27 08:00:00.000', '1');\n",
                "INSERT INTO [shop].[dbo].[companies] ([CompanyName], [CompanySupervisor], [CompanyDesc], [CountryCode], [TaxID], [Url], [Email], [Phone], [Created], [Modified], [Status]) VALUES ('允田利設計有限公司', '1', 'nan', 'TWN', '52933685.0', 'nan', 'nan', 'nan', '2022-04-27 08:00:00.000', '2022-04-27 08:00:00.000', '1');"
            ],
            "metadata": {
                "language": "sql",
                "azdata_cell_guid": "11bf10ad-4d77-4fdc-8dbb-3f00d82293b2",
                "tags": []
            },
            "outputs": [],
            "execution_count": null
        },
        {
            "cell_type": "code",
            "source": [
                "SELECT * FROM [shop].[dbo].[Companies];\n",
                "GO"
            ],
            "metadata": {
                "language": "sql",
                "azdata_cell_guid": "822f9bda-8c36-405b-ad39-7048c328b466",
                "tags": []
            },
            "outputs": [],
            "execution_count": null
        },
        {
            "cell_type": "code",
            "source": [
                "-- Warning：刪除[公司詮釋資料]資料表 --\n",
                "DROP TABLE IF EXISTS [dbo].[CompanyMeta]\n",
                "GO\n",
                "\n",
                "-- 建立[公司詮釋資料]資料表 --\n",
                "CREATE TABLE [dbo].[CompanyMeta] (\n",
                "    [CMetaID]   BIGINT         IDENTITY (1, 1) NOT NULL,\n",
                "    [CompanyID] BIGINT         NOT NULL,\n",
                "    [MetaKey]   VARCHAR (255)  DEFAULT ('') NULL,\n",
                "    [MetaValue] NVARCHAR (MAX) DEFAULT (('') collate Chinese_Taiwan_Stroke_CI_AS) NULL,\n",
                "    PRIMARY KEY CLUSTERED ([CMetaID] ASC)\n",
                ");\n",
                "GO\n",
                "\n",
                "-- 建立索引 --\n",
                "CREATE NONCLUSTERED INDEX [ix_CompanyID]\n",
                "    ON [dbo].[CompanyMeta]([CompanyID] ASC);\n",
                "GO\n",
                "\n",
                "CREATE NONCLUSTERED INDEX [ix_CompanyMetaKey]\n",
                "    ON [dbo].[CompanyMeta]([MetaKey] ASC);\n",
                "GO"
            ],
            "metadata": {
                "language": "sql",
                "azdata_cell_guid": "57de3962-9397-4f1c-9460-0d4f0900f8df"
            },
            "outputs": [],
            "execution_count": null
        }
    ]
}