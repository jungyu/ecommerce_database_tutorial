{
    "cells": [
        {
            "attachments": {},
            "cell_type": "markdown",
            "metadata": {
                "azdata_cell_guid": "8b5a1d3b-5c72-4d6a-ae93-8b548253ba87"
            },
            "source": [
                "**學習參考：**\n",
                "\n",
                "- Microsoft SQL 文件： [https://docs.microsoft.com/zh-tw/sql/?view=sql-server-ver15](https://docs.microsoft.com/zh-tw/sql/?view=sql-server-ver15)\n",
                "- W3School： [https://www.w3schools.com/sql/sql\\_select.asp](https://www.w3schools.com/sql/sql_select.asp)\n",
                "- SQL Tutorial： [https://sqltutorial.org/](https://sqltutorial.org/)"
            ]
        },
        {
            "cell_type": "code",
            "execution_count": null,
            "metadata": {
                "azdata_cell_guid": "5d375c3c-f70b-4f1d-a102-eeb3983a591d",
                "language": "sql"
            },
            "outputs": [],
            "source": [
                "-- 切換使用 [shop] 資料庫 --\n",
                "USE [shop];"
            ]
        },
        {
            "attachments": {},
            "cell_type": "markdown",
            "metadata": {
                "azdata_cell_guid": "c8a667c9-1316-47fd-8e1d-e87902b4f969",
                "language": "sql"
            },
            "source": [
                "## SELECT ... JOIN 語法"
            ]
        },
        {
            "attachments": {},
            "cell_type": "markdown",
            "metadata": {},
            "source": [
                "| INNER JOIN | LEFT JOIN | RIGHT JOIN | FULL OUTER JOIN |\n",
                "| --- | --- | --- | --- |\n",
                "| ![INNER JOIN](images/img_innerjoin.gif) | ![LEFT JOIN](images/img_leftjoin.gif) | ![RIGHT JOIN](images/img_rightjoin.gif) | ![FULL OUTER JOIN](images/img_fulljoin.gif) |"
            ]
        },
        {
            "attachments": {},
            "cell_type": "markdown",
            "metadata": {},
            "source": [
                "## INNER JOIN\n",
                "> SELECT column_name(s)\n",
                "> FROM table1\n",
                "> INNER JOIN table2\n",
                "> ON table1.column_name = table2.column_name;"
            ]
        },
        {
            "cell_type": "code",
            "execution_count": null,
            "metadata": {},
            "outputs": [],
            "source": [
                "-- 查詢商品分類ID = 1 的商品 ID 及品名\n",
                "SELECT p.[ID]  ,p.[ProductTitle] \n",
                "  FROM [shop].[dbo].[Products] AS p \n",
                "  INNER JOIN [shop].[dbo].[TermRelationships] AS tr ON tr.[ObjectID]=p.[ID]\n",
                "  WHERE tr.[TermTaxonomyID] = 1;"
            ]
        }
    ],
    "metadata": {
        "kernelspec": {
            "display_name": "SQL",
            "language": "sql",
            "name": "SQL"
        },
        "language_info": {
            "name": "sql",
            "version": ""
        }
    },
    "nbformat": 4,
    "nbformat_minor": 2
}
